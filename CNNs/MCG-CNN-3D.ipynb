{
 "cells": [
  {
   "cell_type": "code",
   "execution_count": null,
   "metadata": {
    "collapsed": true,
    "scrolled": true
   },
   "outputs": [],
   "source": [
    "import tensorflow as tf\n",
    "#import tensorflow.contrib.learn.python.learn as learn\n",
    "import tflearn \n",
    "import scipy as sp\n",
    "import numpy as np \n",
    "import matplotlib.pyplot as plt\n",
    "import six\n",
    "from sklearn.metrics import roc_curve\n",
    "import datetime\n",
    "%matplotlib inline"
   ]
  },
  {
   "cell_type": "code",
   "execution_count": null,
   "metadata": {
    "collapsed": true
   },
   "outputs": [],
   "source": [
    "comData = np.load(\"./inData/3D-conv/comData.npy\")\n",
    "comClass = np.load(\"./inData/3D-conv/comClass.npy\")"
   ]
  },
  {
   "cell_type": "code",
   "execution_count": null,
   "metadata": {
    "collapsed": true
   },
   "outputs": [],
   "source": [
    "def processClassData(classData):\n",
    "    \"\"\"\n",
    "    Process classData.\n",
    "    \n",
    "    Returns a one-hot array of shape [len(classData), 2].\n",
    "    \"\"\"\n",
    "    # Convert label data to one-hot array\n",
    "          \n",
    "    classDataOH = np.zeros((len(classData),2))\n",
    "    classDataOH[np.arange(len(classData)), classData] = 1\n",
    "    \n",
    "    return classDataOH\n",
    "\n",
    "comData = comData[..., np.newaxis]\n",
    "comClassOH = processClassData(comClass)"
   ]
  },
  {
   "cell_type": "code",
   "execution_count": null,
   "metadata": {},
   "outputs": [],
   "source": [
    "# kfold x-validation...\n",
    "k = 3\n",
    "kfoldData = np.array_split(comData, k)\n",
    "kfoldLabelsOH = np.array_split(comClassOH, k)\n",
    "kfoldLabels = np.array_split(comClass, k)\n",
    "print(kfoldData[0].shape)"
   ]
  },
  {
   "cell_type": "markdown",
   "metadata": {},
   "source": [
    "# Neural Network"
   ]
  },
  {
   "cell_type": "code",
   "execution_count": null,
   "metadata": {
    "collapsed": true
   },
   "outputs": [],
   "source": [
    "spec = []\n",
    "sens = []\n",
    "roc = []"
   ]
  },
  {
   "cell_type": "code",
   "execution_count": null,
   "metadata": {
    "scrolled": false
   },
   "outputs": [],
   "source": [
    "for i in np.arange(0,k,1):\n",
    "    sess = tf.InteractiveSession()\n",
    "    tf.reset_default_graph()\n",
    "    tflearn.initializations.normal()\n",
    "\n",
    "    # Input layer:\n",
    "    net = tflearn.layers.core.input_data(shape=[None, 50, 19, 17, 1])\n",
    "\n",
    "    # First layer:\n",
    "    net = tflearn.layers.conv.conv_3d(net, 8, [5,5,5],  activation=\"leaky_relu\")\n",
    "    net = tflearn.layers.conv.max_pool_3d(net, 2, strides=2)\n",
    "\n",
    "    # Second layer:\n",
    "    net = tflearn.layers.conv.conv_3d(net, 16, [5,5,5], activation=\"leaky_relu\")\n",
    "    net = tflearn.layers.conv.max_pool_3d(net, 2, strides=2)\n",
    "\n",
    "    # Fully connected layer\n",
    "    net = tflearn.layers.core.fully_connected(net, 1024, regularizer=\"L2\", weight_decay=0.001, activation=\"leaky_relu\")\n",
    "    #net = tflearn.layers.core.fully_connected(net, 1024, regularizer=\"L2\", weight_decay=0.001, activation=\"leaky_relu\")\n",
    "\n",
    "    # Dropout layer:\n",
    "    net = tflearn.layers.core.dropout(net, keep_prob=0.5)\n",
    "\n",
    "    # Output layer:\n",
    "    net = tflearn.layers.core.fully_connected(net, 2, activation=\"softmax\")\n",
    "\n",
    "    net = tflearn.layers.estimator.regression(net, optimizer='adam', learning_rate=0.0001, loss='categorical_crossentropy')\n",
    "\n",
    "    model = tflearn.DNN(net, tensorboard_verbose=3)\n",
    "    \n",
    "    dummyData = np.reshape(np.concatenate(kfoldData[:i] + kfoldData[i+1:], axis=0), [-1, 2000, 19, 17, 1])\n",
    "    dummyLabels = np.reshape(np.concatenate(kfoldLabelsOH[:i] + kfoldLabelsOH[i+1:], axis=0), [-1, 2])\n",
    "    model.fit(dummyData[:,::40], dummyLabels, batch_size=8, n_epoch=30, show_metric=True)\n",
    "\n",
    "    illTest = []\n",
    "    healthTest = []\n",
    "    for index, item in enumerate(kfoldLabels[i]):\n",
    "        if item == 1:\n",
    "            illTest.append(kfoldData[i][index])\n",
    "        if item == 0:\n",
    "            healthTest.append(kfoldData[i][index])\n",
    "\n",
    "    healthLabel = np.tile([1,0], (len(healthTest), 1))\n",
    "    illLabel = np.tile([0,1], (len(illTest), 1))\n",
    "\n",
    "    sens.append(model.evaluate(np.array(healthTest)[:,::40], healthLabel))\n",
    "    spec.append(model.evaluate(np.array(illTest)[:,::40], illLabel))\n",
    "\n",
    "    # Get roc curve data\n",
    "    predicted = np.array(model.predict(np.array(kfoldData[i])[:,::40]))\n",
    "    fpr, tpr, th = roc_curve(kfoldLabels[i], predicted[:,1])\n",
    "    roc.append([fpr, tpr])"
   ]
  },
  {
   "cell_type": "code",
   "execution_count": null,
   "metadata": {
    "collapsed": true
   },
   "outputs": [],
   "source": [
    "#model.save(\"./outData/models/3d_conv8-16-50.tflearn\")\n",
    "#model.load(\"./outData/models/3d_conv.tflearn\")"
   ]
  },
  {
   "cell_type": "code",
   "execution_count": null,
   "metadata": {},
   "outputs": [],
   "source": [
    "print(\"Specificity:\", spec, \"\\nAvg:\", np.mean(spec), \"\\nSensitivity:\", sens, \"\\nAvg:\", np.mean(sens))"
   ]
  },
  {
   "cell_type": "code",
   "execution_count": null,
   "metadata": {},
   "outputs": [],
   "source": [
    "for i in np.arange(k):\n",
    "    plt.plot(roc[i][0], roc[i][1])\n",
    "plt.title(\"ROC curve\")\n",
    "plt.xlabel(\"FPR\")\n",
    "plt.ylabel(\"TPR\")\n",
    "plt.savefig(\"./outData/MCG/mcgKfold3D.png\")"
   ]
  }
 ],
 "metadata": {
  "kernelspec": {
   "display_name": "Python 3",
   "language": "python",
   "name": "python3"
  },
  "language_info": {
   "codemirror_mode": {
    "name": "ipython",
    "version": 2
   },
   "file_extension": ".py",
   "mimetype": "text/x-python",
   "name": "python",
   "nbconvert_exporter": "python",
   "pygments_lexer": "ipython2",
   "version": "2.7.13"
  }
 },
 "nbformat": 4,
 "nbformat_minor": 1
}
