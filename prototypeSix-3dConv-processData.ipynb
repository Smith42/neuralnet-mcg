{
 "cells": [
  {
   "cell_type": "code",
   "execution_count": 3,
   "metadata": {
    "collapsed": false,
    "scrolled": true
   },
   "outputs": [],
   "source": [
    "import tensorflow as tf\n",
    "#import tensorflow.contrib.learn.python.learn as learn\n",
    "import tflearn \n",
    "import scipy as sp\n",
    "import numpy as np \n",
    "import matplotlib.pyplot as plt\n",
    "from matplotlib import animation\n",
    "from random import shuffle, randint\n",
    "import pandas as pd\n",
    "import six\n",
    "from sklearn.utils import shuffle as mutualShuf\n",
    "from sklearn.preprocessing import normalize\n",
    "from sklearn.metrics import roc_curve\n",
    "%matplotlib inline"
   ]
  },
  {
   "cell_type": "markdown",
   "metadata": {},
   "source": [
    "## This ipynb processes the data for use in the neural net found at protypeSix-3dConv.ipynb"
   ]
  },
  {
   "cell_type": "code",
   "execution_count": 11,
   "metadata": {
    "collapsed": true
   },
   "outputs": [],
   "source": [
    "k = 1 # How many folds in the k-fold x-validation"
   ]
  },
  {
   "cell_type": "code",
   "execution_count": 3,
   "metadata": {
    "collapsed": false
   },
   "outputs": [],
   "source": [
    "## I used this to save the array in a smaller file so it doesn't eat all my ram\n",
    "# df60 = pd.read_pickle(\"./inData/6060DF_MFMts.pkl\")\n",
    "# coilData = df60[\"MFMts\"].as_matrix()\n",
    "# ziData = np.zeros([400,2000,19,17])\n",
    "#\n",
    "# for i in np.arange(400):\n",
    "#    for j in np.arange(2000):\n",
    "#        ziData[i,j] = np.array(coilData[i][j][2])\n",
    "#\n",
    "# np.save(\"./inData/ziData.dat\", ziData)\n",
    "#\n",
    "# ziClass = df60[\"Classification\"].as_matrix()\n",
    "# np.save(\"./inData/ziClass.dat\", ziClass)"
   ]
  },
  {
   "cell_type": "code",
   "execution_count": 9,
   "metadata": {
    "collapsed": false,
    "scrolled": false
   },
   "outputs": [],
   "source": [
    "def splitData(coilData, classData):\n",
    "    \"\"\"\n",
    "    Split data into healthy and ill types.\n",
    "    \"\"\"\n",
    "    illData = []\n",
    "    healthData = []\n",
    "    \n",
    "    for index, item in enumerate(classData):\n",
    "        if item == 1:\n",
    "            illData.append(coilData[index])\n",
    "        if item == 0:\n",
    "            healthData.append(coilData[index])\n",
    "            \n",
    "    return illData, healthData\n",
    "\n",
    "classData = np.load(\"./inData/ziClass.npy\")\n",
    "coilData = np.load(\"./inData/ziData.npy\")\n",
    "\n",
    "# Normalise coilData for each unit time\n",
    "for i in np.arange(coilData.shape[0]):\n",
    "    for j in np.arange(coilData.shape[1]):\n",
    "        coilData[i,j] = normalize(coilData[i,j], axis=1)"
   ]
  },
  {
   "cell_type": "code",
   "execution_count": 12,
   "metadata": {
    "collapsed": false
   },
   "outputs": [
    {
     "name": "stdout",
     "output_type": "stream",
     "text": [
      "(176, 2000, 19, 17) (184, 2000, 19, 17) \n",
      " (20, 2000, 19, 17) (20, 2000, 19, 17)\n"
     ]
    }
   ],
   "source": [
    "illData, healthData = splitData(coilData, classData)\n",
    "if k == 1:\n",
    "    illUnseen = np.array(illData[:20])\n",
    "    healthUnseen = np.array(healthData[:20])\n",
    "    illData = np.array(illData[20:])\n",
    "    healthData = np.array(healthData[20:])\n",
    "    print(illData.shape, healthData.shape,\"\\n\", illUnseen.shape, healthUnseen.shape)\n",
    "else:\n",
    "    illData = np.array(illData)\n",
    "    healthData = np.array(healthData)\n",
    "    print(illData.shape, healthData.shape)"
   ]
  },
  {
   "cell_type": "code",
   "execution_count": 13,
   "metadata": {
    "collapsed": false
   },
   "outputs": [
    {
     "name": "stdout",
     "output_type": "stream",
     "text": [
      "ill samples 176\n",
      "healthy samples 184\n",
      "ill samples 20\n",
      "healthy samples 20\n"
     ]
    }
   ],
   "source": [
    "def processClassData(classData):\n",
    "    \"\"\"\n",
    "    Process classData.\n",
    "    \n",
    "    Returns a one-hot array of shape [len(classData), 2].\n",
    "    \"\"\"\n",
    "    # Convert label data to one-hot array\n",
    "          \n",
    "    classDataOH = np.zeros((len(classData),2))\n",
    "    classDataOH[np.arange(len(classData)), classData] = 1\n",
    "    \n",
    "    return classDataOH\n",
    "\n",
    "def functionTown(illArr, healthArr, shuffle):\n",
    "    \"\"\"\n",
    "    Return the processed ecgData and the classData (one-hot). Also return arrays of ill and healthy ppts.\n",
    "    If shuffle is true, shuffle data.\n",
    "    \"\"\"\n",
    "    \n",
    "    print(\"ill samples\", len(illArr))\n",
    "    print(\"healthy samples\", len(healthArr))\n",
    "    \n",
    "    classData = []\n",
    "    for i in np.arange(0, len(illArr), 1):\n",
    "        classData.append(1)\n",
    "    for i in np.arange(0, len(healthArr), 1):\n",
    "        classData.append(0)\n",
    "    ecgData = np.reshape(np.append(illArr, healthArr), (-1, 2000, 19, 17))\n",
    "    \n",
    "    if shuffle == True:\n",
    "        classData, ecgData = mutualShuf(np.array(classData), ecgData, random_state=0)\n",
    "        \n",
    "    classDataOH = processClassData(classData)\n",
    "    return np.array(ecgData), classDataOH, classData\n",
    "    \n",
    "ecgData, classDataOH, classData = functionTown(illData, healthData, True)\n",
    "# Reintegrate the found values...\n",
    "ecgData = np.reshape(ecgData, (-1,2000,19,17))\n",
    "\n",
    "if k != 1:\n",
    "    # Split ecgData into k sets so we can perform k-fold cross validation:\n",
    "    kfoldData = np.array_split(ecgData, k)\n",
    "    kfoldLabelsOH = np.array_split(classDataOH, k)\n",
    "    kfoldLabels = np.array_split(classData, k)\n",
    "\n",
    "# Get the unseen data:\n",
    "if k == 1:\n",
    "    unseenData, unseenClassOH, unseenClass = functionTown(illUnseen, healthUnseen, True)\n",
    "    #unseenData =  np.cumsum(unseenData, axis=2)\n",
    "    unseenData = np.reshape(unseenData, (-1,2000,19,17))\n",
    "    iUnseen, hUnseen = splitData(unseenData, unseenClass)\n",
    "    unseenHL = np.tile([1,0], (len(hUnseen), 1))\n",
    "    unseenIL = np.tile([0,1], (len(iUnseen), 1))"
   ]
  },
  {
   "cell_type": "code",
   "execution_count": null,
   "metadata": {
    "collapsed": true
   },
   "outputs": [],
   "source": [
    "np.save(\"./inData/3D-conv/ecgData\", ecgData)\n",
    "np.save(\"./inData/3D-conv/unseenData\", unseenData)\n",
    "np.save(\"./inData/3D-conv/ecgClass\", classData)\n",
    "np.save(\"./inData/3D-conv/unseenClass\", unseenClass)"
   ]
  },
  {
   "cell_type": "markdown",
   "metadata": {},
   "source": [
    "# Make a visualisation of the data"
   ]
  },
  {
   "cell_type": "code",
   "execution_count": 4,
   "metadata": {
    "collapsed": false,
    "scrolled": true
   },
   "outputs": [],
   "source": [
    "ecgData = np.load(\"./inData/3D-conv/ecgData.npy\")\n",
    "unseenData = np.load(\"./inData/3D-conv/unseenData.npy\")"
   ]
  },
  {
   "cell_type": "code",
   "execution_count": 5,
   "metadata": {
    "collapsed": false,
    "scrolled": true
   },
   "outputs": [
    {
     "data": {
      "image/png": "[encoded data removed]",
      "text/plain": [
       "<matplotlib.figure.Figure at 0x7f8700531128>"
      ]
     },
     "metadata": {},
     "output_type": "display_data"
    }
   ],
   "source": [
    "ppt=100\n",
    "fig = plt.figure()\n",
    "data = ecgData[ppt,0]\n",
    "im = plt.imshow(data)\n",
    "\n",
    "def animate(i):\n",
    "    data = ecgData[ppt,i]\n",
    "    im.set_data(data)\n",
    "    return im\n",
    "\n",
    "plt.axis(\"off\")\n",
    "plt.title(\"Example of 3D (two space, \\n 1 time dimension) MCG data used\")\n",
    "anim = animation.FuncAnimation(fig, animate, frames=np.arange(2000)[::10], repeat=False)\n",
    "anim.save(\"/tmp/3D-Data-Example.mp4\")"
   ]
  },
  {
   "cell_type": "code",
   "execution_count": null,
   "metadata": {
    "collapsed": true
   },
   "outputs": [],
   "source": []
  }
 ],
 "metadata": {
  "kernelspec": {
   "display_name": "Python 3",
   "language": "python",
   "name": "python3"
  },
  "language_info": {
   "codemirror_mode": {
    "name": "ipython",
    "version": 3
   },
   "file_extension": ".py",
   "mimetype": "text/x-python",
   "name": "python",
   "nbconvert_exporter": "python",
   "pygments_lexer": "ipython3",
   "version": "3.5.3"
  }
 },
 "nbformat": 4,
 "nbformat_minor": 1
}
