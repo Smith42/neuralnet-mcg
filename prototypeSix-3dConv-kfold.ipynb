{
 "cells": [
  {
   "cell_type": "code",
   "execution_count": 1,
   "metadata": {
    "collapsed": false,
    "scrolled": true
   },
   "outputs": [
    {
     "name": "stdout",
     "output_type": "stream",
     "text": [
      "hdf5 is not supported on this machine (please install/reinstall h5py for optimal experience)\n"
     ]
    },
    {
     "name": "stderr",
     "output_type": "stream",
     "text": [
      "/usr/local/lib/python2.7/dist-packages/matplotlib/font_manager.py:273: UserWarning: Matplotlib is building the font cache using fc-list. This may take a moment.\n",
      "  warnings.warn('Matplotlib is building the font cache using fc-list. This may take a moment.')\n"
     ]
    }
   ],
   "source": [
    "import tensorflow as tf\n",
    "#import tensorflow.contrib.learn.python.learn as learn\n",
    "import tflearn \n",
    "import scipy as sp\n",
    "import numpy as np \n",
    "import matplotlib.pyplot as plt\n",
    "import six\n",
    "from sklearn.metrics import roc_curve\n",
    "import datetime\n",
    "%matplotlib inline"
   ]
  },
  {
   "cell_type": "code",
   "execution_count": 2,
   "metadata": {
    "collapsed": false
   },
   "outputs": [
    {
     "data": {
      "text/plain": [
       "'ecgData = np.load(\"/media/john/SAMSUNG/CNN/3D-conv/ecgData.npy\")\\necgClass = np.load(\"/media/john/SAMSUNG/CNN/3D-conv/ecgClass.npy\")\\nunseenData = np.load(\"/media/john/SAMSUNG/CNN/3D-conv/unseenData.npy\")\\nunseenClass = np.load(\"/media/john/SAMSUNG/CNN/3D-conv/unseenClass.npy\")\\n\\ncomData = np.concatenate((ecgData, unseenData))\\ncomClass = np.concatenate((ecgClass, unseenClass))\\n\\nnp.save(\"/media/john/SAMSUNG/CNN/3D-conv/comData.npy\", comData)\\nnp.save(\"/media/john/SAMSUNG/CNN/3D-conv/comClass.npy\", comClass)'"
      ]
     },
     "execution_count": 2,
     "metadata": {},
     "output_type": "execute_result"
    }
   ],
   "source": [
    "\"\"\"ecgData = np.load(\"/media/john/SAMSUNG/CNN/3D-conv/ecgData.npy\")\n",
    "ecgClass = np.load(\"/media/john/SAMSUNG/CNN/3D-conv/ecgClass.npy\")\n",
    "unseenData = np.load(\"/media/john/SAMSUNG/CNN/3D-conv/unseenData.npy\")\n",
    "unseenClass = np.load(\"/media/john/SAMSUNG/CNN/3D-conv/unseenClass.npy\")\n",
    "\n",
    "comData = np.concatenate((ecgData, unseenData))\n",
    "comClass = np.concatenate((ecgClass, unseenClass))\n",
    "\n",
    "np.save(\"/media/john/SAMSUNG/CNN/3D-conv/comData.npy\", comData)\n",
    "np.save(\"/media/john/SAMSUNG/CNN/3D-conv/comClass.npy\", comClass)\"\"\""
   ]
  },
  {
   "cell_type": "code",
   "execution_count": 2,
   "metadata": {
    "collapsed": false
   },
   "outputs": [],
   "source": [
    "comData = np.load(\"/media/john/SAMSUNG/CNN/3D-conv/comData.npy\")\n",
    "comClass = np.load(\"/media/john/SAMSUNG/CNN/3D-conv/comClass.npy\")"
   ]
  },
  {
   "cell_type": "code",
   "execution_count": 3,
   "metadata": {
    "collapsed": false
   },
   "outputs": [],
   "source": [
    "def processClassData(classData):\n",
    "    \"\"\"\n",
    "    Process classData.\n",
    "    Returns a one-hot array of shape [len(classData), 2].\n",
    "    \"\"\"\n",
    "    # Convert label data to one-hot array\n",
    "          \n",
    "    classDataOH = np.zeros((len(classData),2))\n",
    "    classDataOH[np.arange(len(classData)), classData] = 1\n",
    "    \n",
    "    return classDataOH\n",
    "\n",
    "comData = comData[..., np.newaxis]\n",
    "comClassOH = processClassData(comClass)"
   ]
  },
  {
   "cell_type": "code",
   "execution_count": 4,
   "metadata": {
    "collapsed": false
   },
   "outputs": [
    {
     "name": "stdout",
     "output_type": "stream",
     "text": [
      "(134, 2000, 19, 17, 1)\n"
     ]
    }
   ],
   "source": [
    "# kfold x-validation...\n",
    "k = 3\n",
    "kfoldData = np.array_split(comData, k)\n",
    "kfoldLabelsOH = np.array_split(comClassOH, k)\n",
    "kfoldLabels = np.array_split(comClass, k)\n",
    "print(kfoldData[0].shape)"
   ]
  },
  {
   "cell_type": "markdown",
   "metadata": {},
   "source": [
    "# Neural Network"
   ]
  },
  {
   "cell_type": "code",
   "execution_count": 5,
   "metadata": {
    "collapsed": true
   },
   "outputs": [],
   "source": [
    "healthEval = []\n",
    "illEval = []\n",
    "spec = []\n",
    "sens = []\n",
    "unseenSpec = []\n",
    "unseenSens = []\n",
    "unseenAvg = []\n",
    "roc = []"
   ]
  },
  {
   "cell_type": "code",
   "execution_count": 6,
   "metadata": {
    "collapsed": true
   },
   "outputs": [],
   "source": [
    "subsamp = 40\n",
    "numepoch = 2"
   ]
  },
  {
   "cell_type": "code",
   "execution_count": 7,
   "metadata": {
    "collapsed": false
   },
   "outputs": [],
   "source": [
    "perf = {}\n",
    "perf['in_acc'] = np.zeros((k, numepoch))\n",
    "perf['out_acc'] = np.zeros((k, numepoch))\n",
    "perf['P_acc'] = np.zeros((k, numepoch))\n",
    "perf['H_acc'] = np.zeros((k, numepoch))\n",
    "perf['ROC'] = []"
   ]
  },
  {
   "cell_type": "code",
   "execution_count": 8,
   "metadata": {
    "collapsed": false,
    "scrolled": false
   },
   "outputs": [
    {
     "name": "stdout",
     "output_type": "stream",
     "text": [
      "Training Step: 67  | total loss: \u001b[1m\u001b[32m0.60912\u001b[0m\u001b[0m | time: 0.327s\n",
      "| Adam | epoch: 002 | loss: 0.60912 - acc: 0.6611 -- iter: 264/267\n",
      "Training Step: 68  | total loss: \u001b[1m\u001b[32m0.61899\u001b[0m\u001b[0m | time: 0.335s\n",
      "| Adam | epoch: 002 | loss: 0.61899 - acc: 0.6420 -- iter: 267/267\n",
      "--\n"
     ]
    }
   ],
   "source": [
    "for i in np.arange(0,k,1):\n",
    "    perf['ROC'].append([])\n",
    "    print 'K= ', i\n",
    "    sess = tf.InteractiveSession()\n",
    "    tf.reset_default_graph()\n",
    "    tflearn.initializations.normal()\n",
    "\n",
    "    # Input layer:\n",
    "    net = tflearn.layers.core.input_data(shape=[None, 50, 19, 17, 1])\n",
    "\n",
    "    # First layer:\n",
    "    net = tflearn.layers.conv.conv_3d(net, 8, [5,5,5],  activation=\"leaky_relu\", \n",
    "                                      regularizer='L2', weight_decay=0.001)\n",
    "    net = tflearn.layers.conv.max_pool_3d(net, 2, strides=2)\n",
    "\n",
    "    # Second layer:\n",
    "    net = tflearn.layers.conv.conv_3d(net, 16, [5,5,5], activation=\"leaky_relu\", \n",
    "                                      regularizer='L2', weight_decay=0.001)\n",
    "    net = tflearn.layers.conv.max_pool_3d(net, 2, strides=2)\n",
    "\n",
    "    # Fully connected layer\n",
    "    net = tflearn.layers.core.fully_connected(net, 1024, regularizer=\"L2\",\n",
    "                                              weight_decay=0.001, activation=\"leaky_relu\")\n",
    "    net = tflearn.layers.core.fully_connected(net, 1024, regularizer=\"L2\",\n",
    "                                              weight_decay=0.001, activation=\"leaky_relu\")\n",
    "    \n",
    "    # Dropout layer:\n",
    "    net = tflearn.layers.core.dropout(net, keep_prob=0.5)\n",
    "\n",
    "    # Output layer:\n",
    "    net = tflearn.layers.core.fully_connected(net, 2, activation=\"softmax\")\n",
    "\n",
    "    net = tflearn.layers.estimator.regression(net, optimizer='adam', \n",
    "                                              learning_rate=0.0001, loss='categorical_crossentropy')\n",
    "    #Could use loss function: 'roc_auc_score'\n",
    "    \n",
    "    model = tflearn.DNN(net, tensorboard_verbose=3)\n",
    "    \n",
    "    dummyData = np.reshape(np.concatenate(kfoldData[:i] + kfoldData[i+1:], axis=0), [-1, 2000, 19, 17, 1])\n",
    "    dummyData = dummyData[:,::subsamp]\n",
    "    dummyLabels = np.reshape(np.concatenate(kfoldLabelsOH[:i] + kfoldLabelsOH[i+1:], axis=0), [-1, 2])\n",
    "    \n",
    "    illTest = []\n",
    "    healthTest = []\n",
    "    for index, item in enumerate(kfoldLabels[i]):\n",
    "        if item == 1:\n",
    "            illTest.append(kfoldData[i][index])\n",
    "        if item == 0:\n",
    "            healthTest.append(kfoldData[i][index])\n",
    "    healthLabel = np.tile([1,0], (len(healthTest), 1))\n",
    "    illLabel = np.tile([0,1], (len(illTest), 1))\n",
    "    \n",
    "    for j in range(numepoch):\n",
    "        model.fit(dummyData, dummyLabels, batch_size=8, n_epoch=1, show_metric=True)\n",
    "        perf['in_acc'][i][j] = model.evaluate(dummyData, dummyLabels)[0]\n",
    "        perf['out_acc'][i][j] = model.evaluate(kfoldData[i][:,::subsamp], kfoldLabelsOH[i])[0]\n",
    "        perf['P_acc'][i][j] = model.evaluate(np.array(illTest)[:,::subsamp], illLabel)[0]\n",
    "        perf['H_acc'][i][j] = model.evaluate(np.array(healthTest)[:,::subsamp], healthLabel)[0]\n",
    "        predicted = np.array(model.predict(np.array(kfoldData[i])[:,::subsamp]))\n",
    "        fpr, tpr, th = roc_curve(kfoldLabels[i], predicted[:,1])\n",
    "        perf['ROC'][i].append([fpr, tpr])\n",
    "\n",
    "    sens.append(model.evaluate(np.array(healthTest)[:,::subsamp], healthLabel))\n",
    "    spec.append(model.evaluate(np.array(illTest)[:,::subsamp], illLabel))\n",
    "\n",
    "    # Get roc curve data\n",
    "    predicted = np.array(model.predict(np.array(kfoldData[i])[:,::subsamp]))\n",
    "    fpr, tpr, th = roc_curve(kfoldLabels[i], predicted[:,1])\n",
    "    roc.append([fpr, tpr])"
   ]
  },
  {
   "cell_type": "code",
   "execution_count": null,
   "metadata": {
    "collapsed": false
   },
   "outputs": [],
   "source": [
    "#model.save(\"./outData/models/3d_conv8-16-50.tflearn\")\n",
    "#model.load(\"./outData/models/3d_conv.tflearn\")"
   ]
  },
  {
   "cell_type": "code",
   "execution_count": null,
   "metadata": {
    "collapsed": false
   },
   "outputs": [],
   "source": [
    "print(\"Specificity:\", spec, \"\\nAvg:\", np.mean(spec), \"\\nSensitivity:\", sens, \"\\nAvg:\", np.mean(sens))\n",
    "for i in np.arange(k):\n",
    "    plt.plot(roc[i][0], roc[i][1])"
   ]
  },
  {
   "cell_type": "markdown",
   "metadata": {
    "collapsed": true
   },
   "source": [
    "## Hyperparameter Optimisation\n",
    "\n",
    "We could potentially optimise:\n",
    "    * Regression layer learning rate\n",
    "    * Filter shape\n",
    "    * Pooling shape and stride\n",
    "    * Weight decay of regulariser (in Conv layer & Fully connected layers)\n",
    "    * Subsamp"
   ]
  },
  {
   "cell_type": "code",
   "execution_count": null,
   "metadata": {
    "collapsed": true
   },
   "outputs": [],
   "source": []
  }
 ],
 "metadata": {
  "kernelspec": {
   "display_name": "Python 2",
   "language": "python",
   "name": "python2"
  },
  "language_info": {
   "codemirror_mode": {
    "name": "ipython",
    "version": 2
   },
   "file_extension": ".py",
   "mimetype": "text/x-python",
   "name": "python",
   "nbconvert_exporter": "python",
   "pygments_lexer": "ipython2",
   "version": "2.7.6"
  }
 },
 "nbformat": 4,
 "nbformat_minor": 1
}
