{
 "cells": [
  {
   "cell_type": "code",
   "execution_count": 9,
   "metadata": {
    "collapsed": false,
    "scrolled": true
   },
   "outputs": [],
   "source": [
    "import tensorflow as tf\n",
    "import tensorflow.contrib.learn.python.learn as learn\n",
    "import tflearn \n",
    "import numpy as np \n",
    "import matplotlib.pyplot as plt\n",
    "import pandas as pd\n",
    "import sklearn\n",
    "%matplotlib inline"
   ]
  },
  {
   "cell_type": "markdown",
   "metadata": {},
   "source": [
    "# Import and process data"
   ]
  },
  {
   "cell_type": "code",
   "execution_count": 10,
   "metadata": {
    "collapsed": false
   },
   "outputs": [],
   "source": [
    "def importPickle(fileLocation): # File location is ./inData/6060DataFrame.pkl\n",
    "    \"\"\"\n",
    "    Imports Daniel Wilson's datafile and respectively returns a matrix of class \n",
    "    (whether patient is healthy or unhealthy) data, and a matrix of coil data.\n",
    "    \"\"\"\n",
    "    # Import dataframe\n",
    "    path60  = fileLocation\n",
    "    df60 = pd.read_pickle(path60)\n",
    "    # Separate pandas dataframe into classification and data arrays\n",
    "    classData = df60[\"Classification\"].as_matrix()\n",
    "    coilData = df60[\"Coil Data\"].as_matrix()\n",
    "    \n",
    "    # Replace outlier reading 138 (far far too big!)\n",
    "    classData[138] = classData[137]\n",
    "    coilData[138] = coilData[137]\n",
    "    \n",
    "    return classData, coilData\n",
    "\n",
    "def processCoilData(coilData, expand):\n",
    "    \"\"\"\n",
    "    The coil data is an array of shape [400,15,2000] (1 second @ 1GHz for a set of 15 SQUIDs for \n",
    "    400 total runs on a group of 60 heathy and 60 unhealthy patients). \n",
    "    \n",
    "    This function first reduces the coil data to every 40th point, without a major loss of information. \n",
    "    If expand == True, then it then iterates over the dataset, taking every 40th point from a starting \n",
    "    position of i=1,2,3,...,40. \n",
    "    In this way we can artificially expand each individual set of coilData into 40 similar sets.\n",
    "    \n",
    "    Returns an array of shape [40*400,750] if expand == True, or shape [400, 750] if expand == False.\n",
    "    \"\"\"\n",
    "    #coilData = [x*10000 for x in coilData]\n",
    "    \n",
    "    if expand == True:\n",
    "        # Initialise expanded data array.\n",
    "        coilDataCut = np.zeros((16000, 750))\n",
    "\n",
    "        for j in np.arange(0,40,1):\n",
    "            for i in np.arange(0,400,1):\n",
    "                coilDataCut[i+(j*400)] = np.hstack(coilData[i])[j::40]\n",
    "        \n",
    "        return coilDataCut\n",
    "    if expand == False:\n",
    "        coilDataCut = np.zeros((400,750))\n",
    "        \n",
    "        for i in np.arange(0,400,1):\n",
    "            coilDataCut[i] = np.hstack(coilData[i])[0::40]\n",
    "            \n",
    "        return coilDataCut\n",
    "\n",
    "def processClassData(classData, expand):\n",
    "    \"\"\"\n",
    "    Process classData to complement that of the data processed by processCoilData.\n",
    "    \n",
    "    Returns a one-hot array of shape [40*400,2] if expand == True, and an array of shape\n",
    "    [400,2] if expand == False.\n",
    "    \"\"\"\n",
    "    # Convert label data to one-hot array\n",
    "    classDataOH = np.zeros((400,2))\n",
    "    classDataOH[np.arange(400), classData.astype(np.int)] = 1\n",
    "    if expand == True:\n",
    "        classDataOH = np.tile(classDataOH, (40, 1))\n",
    "    \n",
    "    return classDataOH\n",
    "\n",
    "def getGraphs(coilData):\n",
    "    \"\"\"\n",
    "    Plot heatmap and line graph of data.\n",
    "    Output ./outData/heatmap.pdf and ./outData/graphmap.pdf\n",
    "    \"\"\"\n",
    "    plt.imshow(coilData, cmap='hot', interpolation='nearest')\n",
    "    plt.title(\"Heatmap of entire dataset\")\n",
    "    plt.xlabel(\"Reading #\")\n",
    "    plt.ylabel(\"Patient #\")\n",
    "\n",
    "    plt.savefig(\"./outData/heatmap.pdf\")\n",
    "    plt.clf()\n",
    "    \n",
    "    for i in np.arange(0,400,1):\n",
    "        plt.plot(coilData[i])\n",
    "    plt.title(\"Graph of entire dataset\")\n",
    "    plt.xlabel(\"Reading #\")\n",
    "    plt.ylabel(\"SQUID reading amplitude\")\n",
    "    \n",
    "    plt.savefig(\"./outData/graphmap.pdf\")\n",
    "    plt.clf()"
   ]
  },
  {
   "cell_type": "code",
   "execution_count": 50,
   "metadata": {
    "collapsed": false
   },
   "outputs": [
    {
     "data": {
      "text/plain": [
       "<matplotlib.figure.Figure at 0x7fbcce2cea20>"
      ]
     },
     "metadata": {},
     "output_type": "display_data"
    }
   ],
   "source": [
    "classData, coilData = importPickle(\"./inData/6060DataFrame.pkl\")\n",
    "expand = False\n",
    "coilData = processCoilData(coilData, expand)\n",
    "coilData = np.absolute(coilData)\n",
    "classData = processClassData(classData, expand)\n",
    "getGraphs(coilData[:400])"
   ]
  },
  {
   "cell_type": "code",
   "execution_count": 51,
   "metadata": {
    "collapsed": false
   },
   "outputs": [],
   "source": [
    "coilDataRS = np.absolute(np.reshape(coilData,[400,15,50,1]))"
   ]
  },
  {
   "cell_type": "code",
   "execution_count": 52,
   "metadata": {
    "collapsed": false
   },
   "outputs": [
    {
     "data": {
      "text/plain": [
       "<matplotlib.image.AxesImage at 0x7fbccc03b208>"
      ]
     },
     "execution_count": 52,
     "metadata": {},
     "output_type": "execute_result"
    },
    {
     "data": {
      "image/png": "[encoded data removed]",
      "text/plain": [
       "<matplotlib.figure.Figure at 0x7fbccd781b38>"
      ]
     },
     "metadata": {},
     "output_type": "display_data"
    }
   ],
   "source": [
    "plt.imshow(coilDataRS[0,:,:,0], cmap='hot', interpolation='nearest')"
   ]
  },
  {
   "cell_type": "code",
   "execution_count": 53,
   "metadata": {
    "collapsed": false
   },
   "outputs": [
    {
     "data": {
      "text/plain": [
       "[<matplotlib.lines.Line2D at 0x7fbccc0976a0>]"
      ]
     },
     "execution_count": 53,
     "metadata": {},
     "output_type": "execute_result"
    },
    {
     "data": {
      "image/png": "[encoded data removed]",
      "text/plain": [
       "<matplotlib.figure.Figure at 0x7fbccc097240>"
      ]
     },
     "metadata": {},
     "output_type": "display_data"
    }
   ],
   "source": [
    "plt.plot(np.absolute(coilData[1,0:50]))\n",
    "plt.plot(np.absolute(coilData[1,50:100]))"
   ]
  },
  {
   "cell_type": "markdown",
   "metadata": {},
   "source": [
    "# Neural Network"
   ]
  },
  {
   "cell_type": "code",
   "execution_count": 62,
   "metadata": {
    "collapsed": false
   },
   "outputs": [],
   "source": [
    "sess = tf.InteractiveSession()\n",
    "tf.reset_default_graph()\n",
    "tflearn.initializations.normal()\n",
    "\n",
    "# Input layer:\n",
    "net = tflearn.layers.core.input_data(shape=[None, 15, 50, 1])\n",
    "\n",
    "# First layer:\n",
    "net = tflearn.layers.conv.conv_2d(net, 128, [5,5], activation=\"relu\")\n",
    "net = tflearn.layers.conv.max_pool_2d(net, 2)\n",
    "\n",
    "# Second layer:\n",
    "net = tflearn.layers.conv.conv_2d(net, 256, [5,5], activation=\"relu\")\n",
    "net = tflearn.layers.conv.max_pool_2d(net, 2)\n",
    "\n",
    "# Fully connected layer 1:\n",
    "net = tflearn.layers.core.fully_connected(net, 2048, activation=\"relu\")\n",
    "\n",
    "# Fully connected layer 2:\n",
    "net = tflearn.layers.core.fully_connected(net, 256, activation=\"relu\")\n",
    "\n",
    "# Output layer:\n",
    "net = tflearn.layers.core.fully_connected(net, 2, activation=\"softmax\")\n",
    "\n",
    "net = tflearn.layers.estimator.regression(net, optimizer='adam', loss='binary_crossentropy',\\\n",
    "                         learning_rate=0.001)"
   ]
  },
  {
   "cell_type": "code",
   "execution_count": 63,
   "metadata": {
    "collapsed": false,
    "scrolled": true
   },
   "outputs": [
    {
     "name": "stdout",
     "output_type": "stream",
     "text": [
      "Training Step: 130  | total loss: \u001b[1m\u001b[32m0.72382\u001b[0m\u001b[0m\n",
      "| Adam | epoch: 010 | loss: 0.72382 | val_loss: 0.72329 -- iter: 360/360\n",
      "Training Step: 130  | total loss: \u001b[1m\u001b[32m0.72382\u001b[0m\u001b[0m\n",
      "| Adam | epoch: 010 | loss: 0.72382 | val_loss: 0.72329 -- iter: 360/360\n",
      "--\n"
     ]
    }
   ],
   "source": [
    "model = tflearn.DNN(net, tensorboard_verbose=3)\n",
    "model.fit(coilDataRS, classData)\n",
    "model.fit(coilDataRS, classData, validation_set=0.1)"
   ]
  },
  {
   "cell_type": "code",
   "execution_count": null,
   "metadata": {
    "collapsed": true
   },
   "outputs": [],
   "source": []
  }
 ],
 "metadata": {
  "kernelspec": {
   "display_name": "Python 3",
   "language": "python",
   "name": "python3"
  },
  "language_info": {
   "codemirror_mode": {
    "name": "ipython",
    "version": 3
   },
   "file_extension": ".py",
   "mimetype": "text/x-python",
   "name": "python",
   "nbconvert_exporter": "python",
   "pygments_lexer": "ipython3",
   "version": "3.5.3"
  }
 },
 "nbformat": 4,
 "nbformat_minor": 1
}
