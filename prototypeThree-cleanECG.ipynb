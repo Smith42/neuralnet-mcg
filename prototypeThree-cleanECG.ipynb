{
 "cells": [
  {
   "cell_type": "code",
   "execution_count": 207,
   "metadata": {
    "collapsed": false,
    "scrolled": true
   },
   "outputs": [],
   "source": [
    "import tensorflow as tf\n",
    "#import tensorflow.contrib.learn.python.learn as learn\n",
    "import tflearn \n",
    "import scipy as sp\n",
    "import numpy as np \n",
    "import matplotlib.pyplot as plt\n",
    "from random import shuffle\n",
    "import pandas as pd\n",
    "import sklearn\n",
    "%matplotlib inline"
   ]
  },
  {
   "cell_type": "markdown",
   "metadata": {},
   "source": [
    "# Import and process data"
   ]
  },
  {
   "cell_type": "code",
   "execution_count": 208,
   "metadata": {
    "collapsed": false
   },
   "outputs": [
    {
     "name": "stdout",
     "output_type": "stream",
     "text": [
      "Input shape for ill and healthy: (115200, 16) (115200, 16)\n",
      "Differentiated shape for ill and healthy: (115199,) (115199,)\n"
     ]
    }
   ],
   "source": [
    "illPat = np.genfromtxt(\"./inData/clean_ecg/s0014lre.txt\")\n",
    "healthPat = np.genfromtxt(\"./inData/clean_ecg/s0303lre.txt\")\n",
    "dhealthPat = np.diff(healthPat[0:,1])\n",
    "dillPat = np.diff(illPat[0:,1])\n",
    "print(\"Input shape for ill and healthy:\", illPat.shape, healthPat.shape)\n",
    "print(\"Differentiated shape for ill and healthy:\", dillPat.shape, dhealthPat.shape)\n",
    "\n",
    "# Various plots...\n",
    "#plt.plot(illPat[0:5000,1])\n",
    "#plt.plot(healthPat[0:5000,1])\n",
    "#plt.plot(dhealthPat[0:50000])\n",
    "#plt.plot(dillPat[0:500])"
   ]
  },
  {
   "cell_type": "code",
   "execution_count": 209,
   "metadata": {
    "collapsed": false
   },
   "outputs": [
    {
     "name": "stdout",
     "output_type": "stream",
     "text": [
      "555\n",
      "480\n"
     ]
    }
   ],
   "source": [
    "def findAbove(arr, threshold):\n",
    "    \"\"\"\n",
    "    Return indices for values above threshhold in array, arr.\n",
    "    \"\"\"\n",
    "    inlst = []\n",
    "    for index, item in enumerate(arr):\n",
    "        if item >= threshold:\n",
    "            inlst.append(index)\n",
    "    return inlst\n",
    "\n",
    "def getSamples(arr, peakArr, buffer):\n",
    "    \"\"\"\n",
    "    Get samples for array arr with buffer each side of peak indices, in peakArr.\n",
    "    \"\"\"\n",
    "    sampledData = []\n",
    "    for i in peakArr:\n",
    "        if len(arr[i-buffer: i+buffer]) == buffer*2: # Check that all samples are same size\n",
    "            sampledData.append(arr[i-buffer: i+buffer])\n",
    "        \n",
    "    return sampledData\n",
    "\n",
    "def shuffle2Lst(list1, list2):\n",
    "    \"\"\" \n",
    "    Shuffle two lists in similar ways.\n",
    "    \"\"\"\n",
    "    list1_shuf = []\n",
    "    list2_shuf = []\n",
    "    index_shuf = np.arange(len(list1))\n",
    "    shuffle(index_shuf)\n",
    "    for i in index_shuf:\n",
    "        list1_shuf.append(list1[i])\n",
    "        list2_shuf.append(list2[i])\n",
    "    return list1_shuf, list2_shuf\n",
    "\n",
    "def processClassData(classData):\n",
    "    \"\"\"\n",
    "    Process classData.\n",
    "    \n",
    "    Returns a one-hot array of shape [len(classData), 2].\n",
    "    \"\"\"\n",
    "    # Convert label data to one-hot array\n",
    "          \n",
    "    classDataOH = np.zeros((len(classData),2))\n",
    "    classDataOH[np.arange(len(classData)), classData] = 1\n",
    "    \n",
    "    return classDataOH\n",
    "\n",
    "buffer = 150\n",
    "peakArr = findAbove(dillPat, 0.09)\n",
    "illSampled = getSamples(dillPat, peakArr, buffer)\n",
    "peakArr = findAbove(dhealthPat, 0.04)\n",
    "healthSampled = getSamples(dhealthPat, peakArr, buffer)\n",
    "\n",
    "print(len(illSampled))\n",
    "print(len(healthSampled))\n",
    "\n",
    "classData = []\n",
    "for i in np.arange(0, len(illSampled), 1):\n",
    "    classData.append(1)\n",
    "for i in np.arange(0, len(healthSampled), 1):\n",
    "    classData.append(0)\n",
    "ecgData = illSampled + healthSampled\n",
    "classData, ecgData = shuffle2Lst(classData, ecgData)\n",
    "classDataOH = processClassData(classData)"
   ]
  },
  {
   "cell_type": "code",
   "execution_count": 210,
   "metadata": {
    "collapsed": false,
    "scrolled": false
   },
   "outputs": [],
   "source": [
    "ecgData = np.reshape(np.concatenate(ecgData, axis=0), [len(ecgData), buffer*2, 1])"
   ]
  },
  {
   "cell_type": "code",
   "execution_count": 216,
   "metadata": {
    "collapsed": false
   },
   "outputs": [
    {
     "name": "stdout",
     "output_type": "stream",
     "text": [
      "0\n"
     ]
    },
    {
     "data": {
      "image/png": "[encoded data removed]",
      "text/plain": [
       "<matplotlib.figure.Figure at 0x7f07f6442748>"
      ]
     },
     "metadata": {},
     "output_type": "display_data"
    }
   ],
   "source": [
    "plt.plot(ecgData[115])\n",
    "plt.title(\"Raw ecgData\")\n",
    "print(classData[115])"
   ]
  },
  {
   "cell_type": "markdown",
   "metadata": {},
   "source": [
    "# Neural Network"
   ]
  },
  {
   "cell_type": "code",
   "execution_count": 212,
   "metadata": {
    "collapsed": false
   },
   "outputs": [],
   "source": [
    "sess = tf.InteractiveSession()\n",
    "tf.reset_default_graph()\n",
    "tflearn.initializations.normal()\n",
    "\n",
    "# Input layer:\n",
    "net = tflearn.layers.core.input_data(shape=[None, 300, 1])\n",
    "    \n",
    "# First layer:\n",
    "net = tflearn.layers.conv.conv_1d(net, 32, 5, activation=\"leaky_relu\")\n",
    "net = tflearn.layers.conv.max_pool_1d(net, 2)\n",
    "\n",
    "# Second layer:\n",
    "net = tflearn.layers.conv.conv_1d(net, 64, 5, activation=\"leaky_relu\")\n",
    "net = tflearn.layers.conv.max_pool_1d(net, 2)\n",
    "\n",
    "# Fully connected layer 1:\n",
    "net = tflearn.layers.core.fully_connected(net, 1024, activation=\"leaky_relu\")\n",
    "\n",
    "# Fully connected layer 2:\n",
    "# net = tflearn.layers.core.fully_connected(net, 256, activation=\"relu\")\n",
    "\n",
    "# Output layer:\n",
    "net = tflearn.layers.core.fully_connected(net, 2, activation=\"softmax\")\n",
    "\n",
    "net = tflearn.layers.estimator.regression(net, optimizer='adam', loss='categorical_crossentropy',\\\n",
    "                         learning_rate=0.00001)"
   ]
  },
  {
   "cell_type": "code",
   "execution_count": 213,
   "metadata": {
    "collapsed": false,
    "scrolled": true
   },
   "outputs": [
    {
     "name": "stdout",
     "output_type": "stream",
     "text": [
      "Training Step: 170  | total loss: \u001b[1m\u001b[32m0.44793\u001b[0m\u001b[0m\n",
      "| Adam | epoch: 010 | loss: 0.44793 - acc: 0.8950 -- iter: 1035/1035\n",
      "Training Step: 170  | total loss: \u001b[1m\u001b[32m0.44793\u001b[0m\u001b[0m\n",
      "| Adam | epoch: 010 | loss: 0.44793 - acc: 0.8950 -- iter: 1035/1035\n",
      "--\n"
     ]
    }
   ],
   "source": [
    "model = tflearn.DNN(net, tensorboard_verbose=3)\n",
    "model.fit(ecgData, classDataOH, show_metric=True)"
   ]
  },
  {
   "cell_type": "code",
   "execution_count": 218,
   "metadata": {
    "collapsed": false
   },
   "outputs": [],
   "source": [
    "run0 = np.genfromtxt(\"./outData/cleanEcg2017-02-12/run0.csv\", delimiter=\",\")\n",
    "run1 = np.genfromtxt(\"./outData/cleanEcg2017-02-12/run1.csv\", delimiter=\",\")\n",
    "run2 = np.genfromtxt(\"./outData/cleanEcg2017-02-12/run2.csv\", delimiter=\",\")\n",
    "run3 = np.genfromtxt(\"./outData/cleanEcg2017-02-12/run3.csv\", delimiter=\",\")\n",
    "\n",
    "run0[0]"
   ]
  }
 ],
 "metadata": {
  "kernelspec": {
   "display_name": "Python 3",
   "language": "python",
   "name": "python3"
  },
  "language_info": {
   "codemirror_mode": {
    "name": "ipython",
    "version": 3
   },
   "file_extension": ".py",
   "mimetype": "text/x-python",
   "name": "python",
   "nbconvert_exporter": "python",
   "pygments_lexer": "ipython3",
   "version": "3.5.3"
  }
 },
 "nbformat": 4,
 "nbformat_minor": 1
}
