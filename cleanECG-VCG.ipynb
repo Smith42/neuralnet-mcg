{
 "cells": [
  {
   "cell_type": "markdown",
   "metadata": {},
   "source": [
    "# ipynb for a 2-D CNN for classifying ECGs\n",
    "Best results found so far used:\n",
    "    * 3 VCG leads concatenated\n",
    "    * 200 buffer, 150 shift (looking at QRS -> T lump)\n",
    "    * Input data chunked into 10000 healthy and 10000 unhealthy samples\n",
    "    * Peak finder threshold of 0.02 on differentiated and absoluted input data \n",
    "    (then it is returned to undiff, unabs data before it is fed in)\n",
    "    * Trained over 1 epoch.\n",
    "    * The CNN:\n",
    "        * Conv with 32 features, map 5x3.\n",
    "        * 2x2 max pool.\n",
    "        * Conv 64 features, map 5x3.\n",
    "        * 2x2 max pool.\n",
    "        * 1024 neuron dense layer, L2 regularisation with weight_decay=0.001.\n",
    "        * 50% dropout layer.\n",
    "        * 2 wide softmax layer.\n",
    "        * ADAM optimiser with learning_rate=0.00001.\n",
    "        * Loss function is categorical x-entropy.\n",
    "        \n",
    "This gives a result of Sensitivity: 1.0 Specifity: 0.9965 Accuracy: 0.9982 for data taken from the training set (but not trained with).\n",
    "And Sensitivity: 0.9988 Specifity: 0.9959 Accuracy: 0.9974 on patients it hasn't seen before."
   ]
  },
  {
   "cell_type": "code",
   "execution_count": 2,
   "metadata": {
    "collapsed": false,
    "scrolled": true
   },
   "outputs": [],
   "source": [
    "import tensorflow as tf\n",
    "#import tensorflow.contrib.learn.python.learn as learn\n",
    "import tflearn \n",
    "import scipy as sp\n",
    "import numpy as np \n",
    "import matplotlib.pyplot as plt\n",
    "from mpl_toolkits.mplot3d import Axes3D\n",
    "from random import shuffle, randint\n",
    "from sklearn.utils import shuffle as mutualShuf\n",
    "import os\n",
    "import pandas as pd\n",
    "import sklearn\n",
    "import datetime\n",
    "%matplotlib inline"
   ]
  },
  {
   "cell_type": "markdown",
   "metadata": {},
   "source": [
    "# Import and process data"
   ]
  },
  {
   "cell_type": "code",
   "execution_count": 3,
   "metadata": {
    "collapsed": false,
    "scrolled": false
   },
   "outputs": [
    {
     "name": "stdout",
     "output_type": "stream",
     "text": [
      "./inData/clean_ecg/ill/s0198lre.txt Shape: (15, 115199)\n",
      "./inData/clean_ecg/ill/s0389lre.txt Shape: (15, 115199)\n",
      "./inData/clean_ecg/ill/s0411lre.txt Shape: (15, 115199)\n",
      "./inData/clean_ecg/ill/s0559_re.txt Shape: (15, 120011)\n",
      "./inData/clean_ecg/ill/s0495_re.txt Shape: (15, 120011)\n",
      "./inData/clean_ecg/ill/s0339lre.txt Shape: (15, 115199)\n",
      "./inData/clean_ecg/ill/s0362lre.txt Shape: (15, 115199)\n",
      "./inData/clean_ecg/ill/s0356lre.txt Shape: (15, 115199)\n",
      "./inData/clean_ecg/ill/s0409lre.txt Shape: (15, 115199)\n",
      "./inData/clean_ecg/ill/s0378lre.txt Shape: (15, 115199)\n",
      "./inData/clean_ecg/ill/s0416lre.txt Shape: (15, 115199)\n",
      "./inData/clean_ecg/ill/s0348lre.txt Shape: (15, 115199)\n",
      "./inData/clean_ecg/ill/s0225lre.txt Shape: (15, 115199)\n",
      "./inData/clean_ecg/ill/s0417lre.txt Shape: (15, 115199)\n",
      "./inData/clean_ecg/ill/s0375lre.txt Shape: (15, 115199)\n",
      "./inData/clean_ecg/ill/s0352lre.txt Shape: (15, 115199)\n",
      "./inData/clean_ecg/ill/s0373lre.txt Shape: (15, 115199)\n",
      "./inData/clean_ecg/ill/s0235lre.txt Shape: (15, 115199)\n",
      "./inData/clean_ecg/ill/s0371lre.txt Shape: (15, 115199)\n",
      "./inData/clean_ecg/ill/s0413lre.txt Shape: (15, 115199)\n",
      "./inData/clean_ecg/ill/s0377lre.txt Shape: (15, 115199)\n",
      "./inData/clean_ecg/ill/s0386lre.txt Shape: (15, 115199)\n",
      "./inData/clean_ecg/ill/s0398lre.txt Shape: (15, 115199)\n",
      "./inData/clean_ecg/ill/s0280lre.txt Shape: (15, 115199)\n",
      "./inData/clean_ecg/ill/s0358lre.txt Shape: (15, 115199)\n",
      "./inData/clean_ecg/ill/s0369lre.txt Shape: (15, 115199)\n",
      "./inData/clean_ecg/ill/s0418lre.txt Shape: (15, 115199)\n",
      "./inData/clean_ecg/ill/s0360lre.txt Shape: (15, 115199)\n",
      "./inData/clean_ecg/ill/s0367lre.txt Shape: (15, 115199)\n",
      "./inData/clean_ecg/ill/s0343lre.txt Shape: (15, 115199)\n",
      "./inData/clean_ecg/ill/s0231lre.txt Shape: (15, 115199)\n",
      "./inData/clean_ecg/ill/s0396lre.txt Shape: (15, 115199)\n",
      "./inData/clean_ecg/ill/s0354lre.txt Shape: (15, 115199)\n",
      "./inData/clean_ecg/health/s0545_re.txt Shape: (15, 120011)\n",
      "./inData/clean_ecg/health/s0503_re.txt Shape: (15, 120011)\n",
      "./inData/clean_ecg/health/s0486_re.txt Shape: (15, 120011)\n",
      "./inData/clean_ecg/health/s0496_re.txt Shape: (15, 120011)\n",
      "./inData/clean_ecg/health/s0551_re.txt Shape: (15, 120011)\n",
      "./inData/clean_ecg/health/s0374lre.txt Shape: (15, 115199)\n",
      "./inData/clean_ecg/health/s0478_re.txt Shape: (15, 120011)\n",
      "./inData/clean_ecg/health/s0469_re.txt Shape: (15, 96999)\n",
      "./inData/clean_ecg/health/s0506_re.txt Shape: (15, 120011)\n",
      "./inData/clean_ecg/health/s0474_re.txt Shape: (15, 120011)\n",
      "./inData/clean_ecg/health/s0533_re.txt Shape: (15, 120011)\n",
      "./inData/clean_ecg/health/s0499_re.txt Shape: (15, 120011)\n",
      "./inData/clean_ecg/health/s0500_re.txt Shape: (15, 120011)\n",
      "./inData/clean_ecg/health/s0504_re.txt Shape: (15, 120011)\n",
      "./inData/clean_ecg/health/s0491_re.txt Shape: (15, 120011)\n",
      "./inData/clean_ecg/health/s0476_re.txt Shape: (15, 120011)\n",
      "./inData/clean_ecg/health/s0475_re.txt Shape: (15, 120011)\n",
      "./inData/clean_ecg/health/s0531_re.txt Shape: (15, 120011)\n",
      "./inData/clean_ecg/health/s0472_re.txt Shape: (15, 120011)\n",
      "./inData/clean_ecg/health/s0532_re.txt Shape: (15, 120011)\n",
      "./inData/clean_ecg/health/s0470_re.txt Shape: (15, 120011)\n",
      "./inData/clean_ecg/health/s0480_re.txt Shape: (15, 120011)\n",
      "./inData/clean_ecg/health/s0467_re.txt Shape: (15, 120011)\n",
      "./inData/clean_ecg/health/s0534_re.txt Shape: (15, 120011)\n",
      "./inData/clean_ecg/health/s0552_re.txt Shape: (15, 120011)\n",
      "./inData/clean_ecg/health/s0466_re.txt Shape: (15, 120011)\n",
      "./inData/clean_ecg/health/s0561_re.txt Shape: (15, 120011)\n",
      "./inData/clean_ecg/health/s0502_re.txt Shape: (15, 120011)\n",
      "./inData/clean_ecg/health/s0526_re.txt Shape: (15, 120011)\n",
      "./inData/clean_ecg/health/s0479_re.txt Shape: (15, 120011)\n",
      "./inData/clean_ecg/health/s0468_re.txt Shape: (15, 120011)\n",
      "./inData/clean_ecg/health/s0473_re.txt Shape: (15, 120011)\n",
      "./inData/clean_ecg/health/s0490_re.txt Shape: (15, 120011)\n",
      "./inData/clean_ecg/health/s0481_re.txt Shape: (15, 120011)\n",
      "./inData/clean_ecg/health/s0527_re.txt Shape: (15, 120011)\n",
      "./inData/clean_ecg/health/s0477_re.txt Shape: (15, 120011)\n",
      "./inData/clean_ecg/health/s0471_re.txt Shape: (15, 120011)\n",
      "./inData/clean_ecg/health/s0487_re.txt Shape: (15, 120011)\n",
      "./inData/clean_ecg/health/s0543_re.txt Shape: (15, 120011)\n"
     ]
    }
   ],
   "source": [
    "def importData(filepath):\n",
    "    ppt = np.genfromtxt(filepath)\n",
    "    dppt = np.diff(np.transpose(ppt)) \n",
    "    print(filepath, \"Shape:\", dppt[1:16,:].shape)\n",
    "    return dppt[1:16,:]\n",
    "\n",
    "pathIll = \"./inData/clean_ecg/ill/\"\n",
    "pathHealth = \"./inData/clean_ecg/health/\"\n",
    "illLst = []\n",
    "healthLst = []\n",
    "\n",
    "for file in os.listdir(pathIll):\n",
    "    illLst.append(importData(pathIll+file))\n",
    "for file in os.listdir(pathHealth):\n",
    "    healthLst.append(importData(pathHealth+file))"
   ]
  },
  {
   "cell_type": "code",
   "execution_count": 4,
   "metadata": {
    "collapsed": false,
    "scrolled": true
   },
   "outputs": [
    {
     "name": "stdout",
     "output_type": "stream",
     "text": [
      "Outputing Frank leads\n",
      "(3, 4652605) (3, 3811191)\n"
     ]
    }
   ],
   "source": [
    "print(\"Outputing Frank leads\")\n",
    "healthPat = np.concatenate((healthLst[:]), axis=1)[12:15]\n",
    "illPat = np.concatenate((illLst[:]), axis=1)[12:15]\n",
    "    \n",
    "print(healthPat.shape, illPat.shape)"
   ]
  },
  {
   "cell_type": "code",
   "execution_count": 5,
   "metadata": {
    "collapsed": false
   },
   "outputs": [
    {
     "name": "stdout",
     "output_type": "stream",
     "text": [
      "Total ill samples 180028 . Compressed to (10000, 3, 600)\n",
      "Total healthy samples 215821 . Compressed to (10000, 3, 600)\n"
     ]
    }
   ],
   "source": [
    "def findAbove(arr, threshold, skip):\n",
    "    \"\"\"\n",
    "    Return indices for values above threshhold in array, arr. Keep only first items in sequence.\n",
    "    \"\"\"\n",
    "    inlst = []\n",
    "    for index, item in enumerate(arr):\n",
    "        if item >= threshold:\n",
    "            inlst.append(index)\n",
    "            \n",
    "    return inlst[::skip]\n",
    "\n",
    "def processClassData(classData):\n",
    "    \"\"\"\n",
    "    Process classData.\n",
    "    \n",
    "    Returns a one-hot array of shape [len(classData), 2].\n",
    "    \"\"\"\n",
    "    # Convert label data to one-hot array\n",
    "          \n",
    "    classDataOH = np.zeros((len(classData),2))\n",
    "    classDataOH[np.arange(len(classData)), classData] = 1\n",
    "    \n",
    "    return classDataOH\n",
    "\n",
    "def getSamples(Arr, indexArr, buffer):\n",
    "    \"\"\"\n",
    "    Get samples for inputting into CNN.\n",
    "    \"\"\"\n",
    "    sampleArr = []\n",
    "\n",
    "    for index, item in enumerate(indexArr):\n",
    "        if Arr[0:, item-buffer:item+buffer].shape != (Arr.shape[0], buffer*2):\n",
    "            pass\n",
    "        else:\n",
    "            sampleArr.append(Arr[0:, item-buffer:item+buffer])\n",
    "\n",
    "    return np.array(sampleArr)\n",
    "\n",
    "def visualiseData(ecgData, classData, gridSize, axis):\n",
    "    \"\"\"\n",
    "    Plot labelled example data in a gridSize*gridSize grid.\n",
    "    \"\"\"\n",
    "    fig, ax = plt.subplots(gridSize, gridSize, subplot_kw=dict(projection='3d'))\n",
    "    plt.suptitle(\"Labelled example data\")\n",
    "    r = randint(0,len(classData)-ecgData.shape[1])\n",
    "    k = 0\n",
    "    if gridSize == 1:\n",
    "        ax.plot(ecgData[r+k,0], ecgData[r+k,1], ecgData[r+k,2])\n",
    "    else:\n",
    "        for i in np.arange(0,gridSize,1):\n",
    "            for j in np.arange(0,gridSize,1):\n",
    "                k = k + 1\n",
    "                ax[i,j].plot(ecgData[r+k,0], ecgData[r+k,1], ecgData[r+k,2])\n",
    "                if axis == False:\n",
    "                    ax[i,j].axis(\"off\")\n",
    "                ax[i,j].annotate(classData[r+k], xy=(0, 0), xycoords='axes points',\\\n",
    "                            size=10, ha='left', va='top')\n",
    "\n",
    "def undiff(ecgData, buffer):\n",
    "    \"\"\"\n",
    "    Reverse the differentiation done earlier through np.cumsum.\n",
    "    \"\"\"\n",
    "    ecgData = np.array(ecgData)\n",
    "    ecgData = np.reshape(ecgData, (ecgData.shape[0], ecgData.shape[1], buffer*2))\n",
    "    for i in np.arange(0,ecgData.shape[0],1):\n",
    "        for j in np.arange(0,ecgData.shape[1],1):\n",
    "            ecgData[i,j] = np.cumsum(ecgData[i,j])\n",
    "    ecgData = np.reshape(ecgData, (ecgData.shape[0], ecgData.shape[1], buffer*2, 1))\n",
    "    return ecgData            \n",
    "            \n",
    "def splitData(coilData, classData):\n",
    "    \"\"\"\n",
    "    Split data into healthy and ill types.\n",
    "    \"\"\"\n",
    "    illData = []\n",
    "    healthData = []\n",
    "    \n",
    "    for index, item in enumerate(classData):\n",
    "        if item == 1:\n",
    "            illData.append(coilData[index])\n",
    "        if item == 0:\n",
    "            healthData.append(coilData[index])\n",
    "            \n",
    "    return illData, healthData\n",
    "\n",
    "def chunkify(lst,n):\n",
    "    \"\"\" Chunk a list into n chunks of approximately equal size \"\"\"\n",
    "    return [ lst[i::n] for i in range(n) ]\n",
    "\n",
    "def functionTownCat(illArr, healthArr, illThreshold, healthThreshold, skip, shift, buffer, shuffle):\n",
    "    \"\"\"\n",
    "    Return the processed ecgData with the leads concatenated into a 2d array per heartbeat\n",
    "    and the classData (one-hot). Also return arrays of ill and healthy ppts.\n",
    "    If shuffle is true, shuffle data.\n",
    "    \"\"\"\n",
    "    \n",
    "    illPeakArr = findAbove(np.abs(illArr[0]), illThreshold, skip)\n",
    "    sampleArrI = getSamples(illArr, np.array(illPeakArr), buffer)\n",
    "    \n",
    "    healthPeakArr = findAbove(np.abs(healthArr[0]), healthThreshold, skip)\n",
    "    sampleArrH = getSamples(healthArr, np.array(healthPeakArr), buffer)\n",
    "    \n",
    "    chunkyI = chunkify(sampleArrI, 10000)\n",
    "    chunkyH = chunkify(sampleArrH , 10000)\n",
    "    avgI = []\n",
    "    avgH = []\n",
    "    \n",
    "    for i in np.arange(0,len(chunkyI),1):\n",
    "        avgI.append(np.mean(chunkyI[i], axis=0))\n",
    "        \n",
    "    for i in np.arange(0,len(chunkyH),1):\n",
    "        avgH.append(np.mean(chunkyH[i], axis=0))\n",
    "    \n",
    "    sampleArrI = np.array(avgI)\n",
    "    sampleArrH = np.array(avgH)\n",
    "    \n",
    "    print(\"Total ill samples\", len(illPeakArr), \". Compressed to\", sampleArrI.shape)\n",
    "    print(\"Total healthy samples\", len(healthPeakArr), \". Compressed to\", sampleArrH.shape)\n",
    "    \n",
    "    classData = []\n",
    "    for i in np.arange(0, sampleArrI.shape[0], 1):\n",
    "        classData.append(1)\n",
    "    for i in np.arange(0, sampleArrH.shape[0], 1):\n",
    "        classData.append(0)\n",
    "    ecgData = np.concatenate((sampleArrI, sampleArrH), axis=0)\n",
    "                        \n",
    "    if shuffle == True:\n",
    "        classData, ecgData = mutualShuf(np.array(classData), ecgData, random_state=0)    \n",
    "    \n",
    "    classDataOH = processClassData(classData)\n",
    "    ecgData = np.reshape(ecgData, [-1, sampleArrI.shape[1], buffer*2, 1])\n",
    "    return ecgData, classDataOH, classData\n",
    "\n",
    "buffer = 300\n",
    "healthThreshold = 0.02\n",
    "illThreshold = 0.02\n",
    "skip = 1\n",
    "shift = 0\n",
    "shuf = True\n",
    "\n",
    "ecgData, classDataOH, classData = functionTownCat(illPat, healthPat, illThreshold, healthThreshold, skip,\\\n",
    "                                               shift, buffer, shuf)\n",
    "# Reintegrate the found values...\n",
    "ecgData = undiff(ecgData, buffer)\n",
    "\n",
    "# Take 20% for testing later:\n",
    "testData = ecgData[:round(ecgData.shape[0]*0.2)]\n",
    "trainData = ecgData[round(ecgData.shape[0]*0.2):]\n",
    "testLabels = classDataOH[:round(ecgData.shape[0]*0.2)]\n",
    "trainLabels = classDataOH[round(ecgData.shape[0]*0.2):]"
   ]
  },
  {
   "cell_type": "code",
   "execution_count": null,
   "metadata": {
    "collapsed": false,
    "scrolled": true
   },
   "outputs": [],
   "source": [
    "print(ecgData.shape)\n",
    "visualiseData(np.reshape(ecgData,(-1,ecgData.shape[1],buffer*2))[:,:], classData, 2, True)\n",
    "#plt.plot(ecgData[0,0,:]*ecgData[0,1,:])\n",
    "#plt.savefig(\"./outData/figures/exampleDataECGundiff.pdf\")"
   ]
  },
  {
   "cell_type": "code",
   "execution_count": 33,
   "metadata": {
    "collapsed": false
   },
   "outputs": [
    {
     "name": "stdout",
     "output_type": "stream",
     "text": [
      "(16000, 3, 600, 1)\n"
     ]
    }
   ],
   "source": [
    "print(trainData.shape)"
   ]
  },
  {
   "cell_type": "markdown",
   "metadata": {},
   "source": [
    "# Neural Network"
   ]
  },
  {
   "cell_type": "code",
   "execution_count": 32,
   "metadata": {
    "collapsed": false
   },
   "outputs": [],
   "source": [
    "sess = tf.InteractiveSession()\n",
    "tf.reset_default_graph()\n",
    "tflearn.initializations.normal()\n",
    "\n",
    "# ecgData = np.zeros((50,12,400,1)) # If ecgData is not defined\n",
    "# Input layer:\n",
    "net = tflearn.layers.core.input_data(shape=[None, buffer*2, buffer*2, buffer*2, 1])\n",
    "\n",
    "# First layer:\n",
    "net = tflearn.layers.conv.conv_3d(net, 32, 5, activation=\"leaky_relu\")\n",
    "net = tflearn.layers.conv.max_pool_3d(net, 2)\n",
    "\n",
    "# Second layer:\n",
    "net = tflearn.layers.conv.conv_3d(net, 64, 5, activation=\"leaky_relu\")\n",
    "net = tflearn.layers.conv.max_pool_3d(net, 2)\n",
    "net = tflearn.layers.core.flatten(net)\n",
    "\n",
    "# Fully connected layer 1:\n",
    "net = tflearn.layers.core.fully_connected(net, 1024, regularizer=\"L2\", weight_decay=0.001, activation=\"leaky_relu\")\n",
    "\n",
    "# Dropout layer:\n",
    "net = tflearn.layers.core.dropout(net, keep_prob=0.5)\n",
    "\n",
    "# Output layer:\n",
    "net = tflearn.layers.core.fully_connected(net, 2, activation=\"softmax\")\n",
    "\n",
    "net = tflearn.layers.estimator.regression(net, optimizer='adam', loss='categorical_crossentropy',\\\n",
    "                         learning_rate=0.00001)"
   ]
  },
  {
   "cell_type": "code",
   "execution_count": 19,
   "metadata": {
    "collapsed": false,
    "scrolled": true
   },
   "outputs": [
    {
     "ename": "ValueError",
     "evalue": "No variables to save",
     "output_type": "error",
     "traceback": [
      "\u001b[0;31m---------------------------------------------------------------------------\u001b[0m",
      "\u001b[0;31mValueError\u001b[0m                                Traceback (most recent call last)",
      "\u001b[0;32m<ipython-input-19-b508a6520d77>\u001b[0m in \u001b[0;36m<module>\u001b[0;34m()\u001b[0m\n\u001b[0;32m----> 1\u001b[0;31m \u001b[0mmodel\u001b[0m \u001b[0;34m=\u001b[0m \u001b[0mtflearn\u001b[0m\u001b[0;34m.\u001b[0m\u001b[0mDNN\u001b[0m\u001b[0;34m(\u001b[0m\u001b[0mnet\u001b[0m\u001b[0;34m,\u001b[0m \u001b[0mtensorboard_verbose\u001b[0m\u001b[0;34m=\u001b[0m\u001b[0;36m3\u001b[0m\u001b[0;34m)\u001b[0m\u001b[0;34m\u001b[0m\u001b[0m\n\u001b[0m\u001b[1;32m      2\u001b[0m \u001b[0;31m#model.fit(trainData, trainLabels, n_epoch=1, show_metric=True)\u001b[0m\u001b[0;34m\u001b[0m\u001b[0;34m\u001b[0m\u001b[0m\n",
      "\u001b[0;32m/home/mike/.local/lib/python3.5/site-packages/tflearn/models/dnn.py\u001b[0m in \u001b[0;36m__init__\u001b[0;34m(self, network, clip_gradients, tensorboard_verbose, tensorboard_dir, checkpoint_path, best_checkpoint_path, max_checkpoints, session, best_val_accuracy)\u001b[0m\n\u001b[1;32m     62\u001b[0m                                \u001b[0mmax_checkpoints\u001b[0m\u001b[0;34m=\u001b[0m\u001b[0mmax_checkpoints\u001b[0m\u001b[0;34m,\u001b[0m\u001b[0;34m\u001b[0m\u001b[0m\n\u001b[1;32m     63\u001b[0m                                \u001b[0msession\u001b[0m\u001b[0;34m=\u001b[0m\u001b[0msession\u001b[0m\u001b[0;34m,\u001b[0m\u001b[0;34m\u001b[0m\u001b[0m\n\u001b[0;32m---> 64\u001b[0;31m                                best_val_accuracy=best_val_accuracy)\n\u001b[0m\u001b[1;32m     65\u001b[0m         \u001b[0mself\u001b[0m\u001b[0;34m.\u001b[0m\u001b[0msession\u001b[0m \u001b[0;34m=\u001b[0m \u001b[0mself\u001b[0m\u001b[0;34m.\u001b[0m\u001b[0mtrainer\u001b[0m\u001b[0;34m.\u001b[0m\u001b[0msession\u001b[0m\u001b[0;34m\u001b[0m\u001b[0m\n\u001b[1;32m     66\u001b[0m \u001b[0;34m\u001b[0m\u001b[0m\n",
      "\u001b[0;32m/home/mike/.local/lib/python3.5/site-packages/tflearn/helpers/trainer.py\u001b[0m in \u001b[0;36m__init__\u001b[0;34m(self, train_ops, graph, clip_gradients, tensorboard_dir, tensorboard_verbose, checkpoint_path, best_checkpoint_path, max_checkpoints, keep_checkpoint_every_n_hours, random_seed, session, best_val_accuracy)\u001b[0m\n\u001b[1;32m    150\u001b[0m                 \u001b[0mvar_list\u001b[0m\u001b[0;34m=\u001b[0m\u001b[0mto_restore_trainvars\u001b[0m\u001b[0;34m,\u001b[0m\u001b[0;34m\u001b[0m\u001b[0m\n\u001b[1;32m    151\u001b[0m                 \u001b[0mmax_to_keep\u001b[0m\u001b[0;34m=\u001b[0m\u001b[0mmax_checkpoints\u001b[0m\u001b[0;34m,\u001b[0m\u001b[0;34m\u001b[0m\u001b[0m\n\u001b[0;32m--> 152\u001b[0;31m                 keep_checkpoint_every_n_hours=keep_checkpoint_every_n_hours)\n\u001b[0m\u001b[1;32m    153\u001b[0m \u001b[0;34m\u001b[0m\u001b[0m\n\u001b[1;32m    154\u001b[0m             \u001b[0mself\u001b[0m\u001b[0;34m.\u001b[0m\u001b[0mto_restore\u001b[0m \u001b[0;34m=\u001b[0m \u001b[0mto_restore\u001b[0m\u001b[0;34m\u001b[0m\u001b[0m\n",
      "\u001b[0;32m/home/mike/.local/lib/python3.5/site-packages/tensorflow/python/training/saver.py\u001b[0m in \u001b[0;36m__init__\u001b[0;34m(self, var_list, reshape, sharded, max_to_keep, keep_checkpoint_every_n_hours, name, restore_sequentially, saver_def, builder, defer_build, allow_empty, write_version, pad_step_number)\u001b[0m\n\u001b[1;32m   1038\u001b[0m     \u001b[0mself\u001b[0m\u001b[0;34m.\u001b[0m\u001b[0m_pad_step_number\u001b[0m \u001b[0;34m=\u001b[0m \u001b[0mpad_step_number\u001b[0m\u001b[0;34m\u001b[0m\u001b[0m\n\u001b[1;32m   1039\u001b[0m     \u001b[0;32mif\u001b[0m \u001b[0;32mnot\u001b[0m \u001b[0mdefer_build\u001b[0m\u001b[0;34m:\u001b[0m\u001b[0;34m\u001b[0m\u001b[0m\n\u001b[0;32m-> 1040\u001b[0;31m       \u001b[0mself\u001b[0m\u001b[0;34m.\u001b[0m\u001b[0mbuild\u001b[0m\u001b[0;34m(\u001b[0m\u001b[0;34m)\u001b[0m\u001b[0;34m\u001b[0m\u001b[0m\n\u001b[0m\u001b[1;32m   1041\u001b[0m     \u001b[0;32mif\u001b[0m \u001b[0mself\u001b[0m\u001b[0;34m.\u001b[0m\u001b[0msaver_def\u001b[0m\u001b[0;34m:\u001b[0m\u001b[0;34m\u001b[0m\u001b[0m\n\u001b[1;32m   1042\u001b[0m       \u001b[0mself\u001b[0m\u001b[0;34m.\u001b[0m\u001b[0m_check_saver_def\u001b[0m\u001b[0;34m(\u001b[0m\u001b[0;34m)\u001b[0m\u001b[0;34m\u001b[0m\u001b[0m\n",
      "\u001b[0;32m/home/mike/.local/lib/python3.5/site-packages/tensorflow/python/training/saver.py\u001b[0m in \u001b[0;36mbuild\u001b[0;34m(self)\u001b[0m\n\u001b[1;32m   1059\u001b[0m           \u001b[0;32mreturn\u001b[0m\u001b[0;34m\u001b[0m\u001b[0m\n\u001b[1;32m   1060\u001b[0m         \u001b[0;32melse\u001b[0m\u001b[0;34m:\u001b[0m\u001b[0;34m\u001b[0m\u001b[0m\n\u001b[0;32m-> 1061\u001b[0;31m           \u001b[0;32mraise\u001b[0m \u001b[0mValueError\u001b[0m\u001b[0;34m(\u001b[0m\u001b[0;34m\"No variables to save\"\u001b[0m\u001b[0;34m)\u001b[0m\u001b[0;34m\u001b[0m\u001b[0m\n\u001b[0m\u001b[1;32m   1062\u001b[0m       \u001b[0mself\u001b[0m\u001b[0;34m.\u001b[0m\u001b[0m_is_empty\u001b[0m \u001b[0;34m=\u001b[0m \u001b[0;32mFalse\u001b[0m\u001b[0;34m\u001b[0m\u001b[0m\n\u001b[1;32m   1063\u001b[0m       self.saver_def = self._builder.build(\n",
      "\u001b[0;31mValueError\u001b[0m: No variables to save"
     ]
    }
   ],
   "source": [
    "model = tflearn.DNN(net, tensorboard_verbose=3)\n",
    "model.fit(trainData, trainLabels, n_epoch=1, show_metric=True)"
   ]
  },
  {
   "cell_type": "code",
   "execution_count": 10,
   "metadata": {
    "collapsed": false
   },
   "outputs": [],
   "source": [
    "# Save model?\n",
    "#now = datetime.datetime.now()\n",
    "#model.save(\"./outData/models/cleanECG_2dconv_12lead_\"+now.isoformat()+\"_.tflearn\")"
   ]
  },
  {
   "cell_type": "markdown",
   "metadata": {},
   "source": [
    "# Test accuracy of model(s)\n",
    "## 20% of training data held back for testing (4000 \"heartbeats\")"
   ]
  },
  {
   "cell_type": "code",
   "execution_count": 9,
   "metadata": {
    "collapsed": false
   },
   "outputs": [
    {
     "name": "stdout",
     "output_type": "stream",
     "text": [
      "WARNING:tensorflow:From /home/mike/.local/lib/python3.5/site-packages/tflearn/helpers/trainer.py:378 in restore.: initialize_all_variables (from tensorflow.python.ops.variables) is deprecated and will be removed after 2017-03-02.\n",
      "Instructions for updating:\n",
      "Use `tf.global_variables_initializer` instead.\n"
     ]
    }
   ],
   "source": [
    "#model.load(\"./outData/models/cleanECG_undiff_20e_300buff_0shift_2017-02-21T19:20:35.702943_.tflearn\")\n",
    "#model.load(\"./outData/models/cleanECG_undiff_20e_150buff_2017-02-21T16:15:02.602923_.tflearn\")\n",
    "#model.load(\"./outData/models/cleanECG_2dconv_12lead_2017-03-08T10:15:17.200943_.tflearn\")\n",
    "#model.load(\"./outData/models/cleanECG_2dconv_12lead_2017-03-09T18:05:18.655939_.tflearn\")"
   ]
  },
  {
   "cell_type": "code",
   "execution_count": 10,
   "metadata": {
    "collapsed": false
   },
   "outputs": [
    {
     "name": "stdout",
     "output_type": "stream",
     "text": [
      "Sensitivity: [0.99102691900456774] Specifity: [1.0] Accuracy: [0.99550000000000005]\n"
     ]
    }
   ],
   "source": [
    "labellst = classData[:round(ecgData.shape[0]*0.2)]\n",
    "healthTest = []\n",
    "illTest = []\n",
    "for index, item in enumerate(labellst):\n",
    "    if item == 1:\n",
    "        illTest.append(testData[index])\n",
    "    if item == 0:\n",
    "        healthTest.append(testData[index])\n",
    "\n",
    "healthLabel = np.tile([1,0], (len(healthTest), 1))\n",
    "illLabel = np.tile([0,1], (len(illTest), 1))\n",
    "                      \n",
    "print(\"Sensitivity:\", model.evaluate(np.array(healthTest), healthLabel), \"Specifity:\",\\\n",
    "    model.evaluate(np.array(illTest), illLabel),\\\n",
    "    \"Accuracy:\", model.evaluate(testData, testLabels))"
   ]
  },
  {
   "cell_type": "markdown",
   "metadata": {},
   "source": [
    "## What if the model hasn't seen data from the patient? What then?!"
   ]
  },
  {
   "cell_type": "code",
   "execution_count": 11,
   "metadata": {
    "collapsed": false
   },
   "outputs": [
    {
     "name": "stdout",
     "output_type": "stream",
     "text": [
      "./inData/clean_ecg/testIll/s0177lre.txt Shape: (15, 115199)\n",
      "./inData/clean_ecg/testIll/s0044lre.txt Shape: (15, 115199)\n",
      "./inData/clean_ecg/testIll/s0088lre.txt Shape: (15, 115199)\n",
      "./inData/clean_ecg/testIll/s0219lre.txt Shape: (15, 115199)\n",
      "./inData/clean_ecg/testIll/s0215lre.txt Shape: (15, 115199)\n",
      "./inData/clean_ecg/testIll/s0174lre.txt Shape: (15, 115199)\n",
      "./inData/clean_ecg/testIll/s0314lre.txt Shape: (15, 115199)\n",
      "./inData/clean_ecg/testIll/s0145lre.txt Shape: (15, 115199)\n",
      "./inData/clean_ecg/testIll/s0133lre.txt Shape: (15, 115199)\n",
      "./inData/clean_ecg/testIll/s0185lre.txt Shape: (15, 115199)\n",
      "./inData/clean_ecg/testIll/s0080lre.txt Shape: (15, 115199)\n",
      "./inData/clean_ecg/testIll/s0124lre.txt Shape: (15, 115199)\n",
      "./inData/clean_ecg/testIll/s0100lre.txt Shape: (15, 115199)\n",
      "./inData/clean_ecg/testIll/s0119lre.txt Shape: (15, 115199)\n",
      "./inData/clean_ecg/testIll/s0131lre.txt Shape: (15, 115199)\n",
      "./inData/clean_ecg/testIll/s0127lre.txt Shape: (15, 115199)\n",
      "./inData/clean_ecg/testIll/s0095lre.txt Shape: (15, 115199)\n",
      "./inData/clean_ecg/testIll/s0068lre.txt Shape: (15, 115199)\n",
      "./inData/clean_ecg/testIll/s0037lre.txt Shape: (15, 115199)\n",
      "./inData/clean_ecg/testIll/s0039lre.txt Shape: (15, 115199)\n",
      "./inData/clean_ecg/testIll/s0173lre.txt Shape: (15, 115199)\n",
      "./inData/clean_ecg/testIll/s0067lre.txt Shape: (15, 31999)\n",
      "./inData/clean_ecg/testIll/s0049lre.txt Shape: (15, 115199)\n",
      "./inData/clean_ecg/testIll/s0186lre.txt Shape: (15, 115199)\n",
      "./inData/clean_ecg/testIll/s0178lre.txt Shape: (15, 115199)\n",
      "./inData/clean_ecg/testIll/s0130lre.txt Shape: (15, 115199)\n",
      "./inData/clean_ecg/testIll/s0104lre.txt Shape: (15, 115199)\n",
      "./inData/clean_ecg/testIll/s0103lre.txt Shape: (15, 115199)\n",
      "./inData/clean_ecg/testIll/s0110lre.txt Shape: (15, 115199)\n",
      "./inData/clean_ecg/testIll/s0081lre.txt Shape: (15, 115199)\n",
      "./inData/clean_ecg/testIll/s0028lre.txt Shape: (15, 115199)\n",
      "./inData/clean_ecg/testIll/s0114lre.txt Shape: (15, 115199)\n",
      "./inData/clean_ecg/testIll/s0085lre.txt Shape: (15, 115199)\n",
      "./inData/clean_ecg/testHealth/s0363lre.txt Shape: (15, 115199)\n",
      "./inData/clean_ecg/testHealth/s0483_re.txt Shape: (15, 120011)\n",
      "./inData/clean_ecg/testHealth/s0460_re.txt Shape: (15, 120011)\n",
      "./inData/clean_ecg/testHealth/s0461_re.txt Shape: (15, 120011)\n",
      "./inData/clean_ecg/testHealth/s0299lre.txt Shape: (15, 115199)\n",
      "./inData/clean_ecg/testHealth/s0453_re.txt Shape: (15, 120011)\n",
      "./inData/clean_ecg/testHealth/s0328lre.txt Shape: (15, 115199)\n",
      "./inData/clean_ecg/testHealth/s0287lre.txt Shape: (15, 115199)\n",
      "./inData/clean_ecg/testHealth/s0459_re.txt Shape: (15, 120011)\n",
      "./inData/clean_ecg/testHealth/s0402lre.txt Shape: (15, 115199)\n",
      "./inData/clean_ecg/testHealth/s0303lre.txt Shape: (15, 115199)\n",
      "./inData/clean_ecg/testHealth/s0274lre.txt Shape: (15, 115199)\n",
      "./inData/clean_ecg/testHealth/s0300lre.txt Shape: (15, 115199)\n",
      "./inData/clean_ecg/testHealth/s0452_re.txt Shape: (15, 120011)\n",
      "./inData/clean_ecg/testHealth/s0301lre.txt Shape: (15, 115199)\n",
      "./inData/clean_ecg/testHealth/s0304lre.txt Shape: (15, 115199)\n",
      "./inData/clean_ecg/testHealth/s0415lre.txt Shape: (15, 115199)\n",
      "./inData/clean_ecg/testHealth/s0292lre.txt Shape: (15, 115199)\n",
      "./inData/clean_ecg/testHealth/s0457_re.txt Shape: (15, 120011)\n",
      "./inData/clean_ecg/testHealth/s0336lre.txt Shape: (15, 115199)\n",
      "./inData/clean_ecg/testHealth/s0311lre.txt Shape: (15, 115199)\n",
      "./inData/clean_ecg/testHealth/s0306lre.txt Shape: (15, 115199)\n",
      "./inData/clean_ecg/testHealth/s0322lre.txt Shape: (15, 115199)\n",
      "./inData/clean_ecg/testHealth/s0463_re.txt Shape: (15, 120011)\n",
      "./inData/clean_ecg/testHealth/s0458_re.txt Shape: (15, 120011)\n",
      "./inData/clean_ecg/testHealth/s0325lre.txt Shape: (15, 115199)\n",
      "./inData/clean_ecg/testHealth/s0273lre.txt Shape: (15, 115199)\n",
      "./inData/clean_ecg/testHealth/s0308lre.txt Shape: (15, 115199)\n",
      "./inData/clean_ecg/testHealth/s0436_re.txt Shape: (15, 120011)\n",
      "./inData/clean_ecg/testHealth/s0323lre.txt Shape: (15, 115199)\n",
      "./inData/clean_ecg/testHealth/s0465_re.txt Shape: (15, 120011)\n",
      "./inData/clean_ecg/testHealth/s0291lre.txt Shape: (15, 115199)\n",
      "./inData/clean_ecg/testHealth/s0462_re.txt Shape: (15, 118183)\n",
      "./inData/clean_ecg/testHealth/s0324lre.txt Shape: (15, 115199)\n",
      "./inData/clean_ecg/testHealth/s0329lre.txt Shape: (15, 115199)\n",
      "./inData/clean_ecg/testHealth/s0482_re.txt Shape: (15, 120011)\n",
      "./inData/clean_ecg/testHealth/s0464_re.txt Shape: (15, 120011)\n",
      "./inData/clean_ecg/testHealth/s0305lre.txt Shape: (15, 115199)\n",
      "./inData/clean_ecg/testHealth/s0312lre.txt Shape: (15, 115199)\n",
      "./inData/clean_ecg/testHealth/s0302lre.txt Shape: (15, 115199)\n",
      "./inData/clean_ecg/testHealth/s0275lre.txt Shape: (15, 115199)\n"
     ]
    }
   ],
   "source": [
    "tpathIll = \"./inData/clean_ecg/testIll/\"\n",
    "tpathHealth = \"./inData/clean_ecg/testHealth/\"\n",
    "tillLst = []\n",
    "thealthLst = []\n",
    "\n",
    "for file in os.listdir(tpathIll):\n",
    "    tillLst.append(importData(tpathIll+file))\n",
    "for file in os.listdir(tpathHealth):\n",
    "    thealthLst.append(importData(tpathHealth+file))"
   ]
  },
  {
   "cell_type": "code",
   "execution_count": null,
   "metadata": {
    "collapsed": false,
    "scrolled": true
   },
   "outputs": [
    {
     "name": "stdout",
     "output_type": "stream",
     "text": [
      "Outputing standard ECG leads...\n",
      "(12, 4788699) (12, 3718367)\n"
     ]
    }
   ],
   "source": [
    "if frank == False:\n",
    "    print(\"Outputing standard ECG leads...\")\n",
    "    thealth = np.concatenate((thealthLst[:]), axis=1)[0:12]\n",
    "    till = np.concatenate((tillLst[:]), axis=1)[0:12]\n",
    "\n",
    "elif frank == True:\n",
    "    print(\"Outputing Frank leads...\")\n",
    "    thealth = np.concatenate((thealthLst[:]), axis=1)[12:15]\n",
    "    till = np.concatenate((tillLst[:]), axis=1)[12:15]\n",
    "    \n",
    "print(thealth.shape, till.shape)\n",
    "  \n",
    "unseenData, unseenClassOH, unseenClass = functionTownCat(till, thealth, illThreshold, healthThreshold, \\\n",
    "                                                   skip, shift, buffer, True)"
   ]
  },
  {
   "cell_type": "code",
   "execution_count": 15,
   "metadata": {
    "collapsed": false
   },
   "outputs": [
    {
     "name": "stdout",
     "output_type": "stream",
     "text": [
      "Sensitivity: 0.957 Specifity: 0.9767 Accuracy: 0.96685\n"
     ]
    }
   ],
   "source": [
    "# Undifferentiate values\n",
    "unseenData = undiff(unseenData, buffer)\n",
    "tillarr, thealtharr = splitData(unseenData, unseenClass)\n",
    " \n",
    "sens = model.evaluate(np.array(thealtharr), np.tile([1,0], (len(thealtharr), 1)))[0]\n",
    "spec = model.evaluate(np.array(tillarr), np.tile([0,1], (len(tillarr), 1)))[0]\n",
    "acc = model.evaluate(unseenData, unseenClassOH)[0]\n",
    "lenh = len(thealtharr)\n",
    "leni = len(tillarr)\n",
    "\n",
    "print(\"Sensitivity:\", sens,\\\n",
    "      \"Specifity:\", spec,\\\n",
    "      \"Accuracy:\", acc)"
   ]
  },
  {
   "cell_type": "code",
   "execution_count": 37,
   "metadata": {
    "collapsed": false
   },
   "outputs": [
    {
     "data": {
      "image/png": "[encoded data removed]",
      "text/plain": [
       "<matplotlib.figure.Figure at 0x7fe9493dc780>"
      ]
     },
     "metadata": {},
     "output_type": "display_data"
    }
   ],
   "source": [
    "visualiseData(np.reshape(unseenData,(-1,unseenData.shape[1],buffer*2))[:,:,::20], unseenClass, 3, False)"
   ]
  },
  {
   "cell_type": "code",
   "execution_count": null,
   "metadata": {
    "collapsed": true
   },
   "outputs": [],
   "source": []
  }
 ],
 "metadata": {
  "kernelspec": {
   "display_name": "Python 3",
   "language": "python",
   "name": "python3"
  },
  "language_info": {
   "codemirror_mode": {
    "name": "ipython",
    "version": 3
   },
   "file_extension": ".py",
   "mimetype": "text/x-python",
   "name": "python",
   "nbconvert_exporter": "python",
   "pygments_lexer": "ipython3",
   "version": "3.5.3"
  }
 },
 "nbformat": 4,
 "nbformat_minor": 1
}
