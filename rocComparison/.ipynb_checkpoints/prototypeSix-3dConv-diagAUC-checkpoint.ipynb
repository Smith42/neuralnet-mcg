{
 "cells": [
  {
   "cell_type": "code",
   "execution_count": 1,
   "metadata": {
    "collapsed": false,
    "scrolled": true
   },
   "outputs": [],
   "source": [
    "import tensorflow as tf\n",
    "#import tensorflow.contrib.learn.python.learn as learn\n",
    "import tflearn \n",
    "import scipy as sp\n",
    "import numpy as np \n",
    "import matplotlib.pyplot as plt\n",
    "import six\n",
    "from sklearn.metrics import roc_curve, roc_auc_score\n",
    "import datetime\n",
    "%matplotlib inline"
   ]
  },
  {
   "cell_type": "code",
   "execution_count": 2,
   "metadata": {
    "collapsed": false
   },
   "outputs": [],
   "source": [
    "comData = np.load(\"../inData/comData.npy\")\n",
    "comClass = np.load(\"../inData/comClass.npy\")"
   ]
  },
  {
   "cell_type": "code",
   "execution_count": 3,
   "metadata": {
    "collapsed": false
   },
   "outputs": [],
   "source": [
    "def processClassData(classData):\n",
    "    \"\"\"\n",
    "    Process classData.\n",
    "    \n",
    "    Returns a one-hot array of shape [len(classData), 2].\n",
    "    \"\"\"\n",
    "    # Convert label data to one-hot array\n",
    "          \n",
    "    classDataOH = np.zeros((len(classData),2))\n",
    "    classDataOH[np.arange(len(classData)), classData] = 1\n",
    "    \n",
    "    return classDataOH\n",
    "\n",
    "comData = comData[..., np.newaxis]\n",
    "comClassOH = processClassData(comClass)"
   ]
  },
  {
   "cell_type": "code",
   "execution_count": 4,
   "metadata": {
    "collapsed": false
   },
   "outputs": [
    {
     "name": "stdout",
     "output_type": "stream",
     "text": [
      "(100, 2000, 19, 17, 1)\n"
     ]
    }
   ],
   "source": [
    "# kfold x-validation...\n",
    "k = 4\n",
    "kfoldData = np.array_split(comData, k)\n",
    "kfoldLabelsOH = np.array_split(comClassOH, k)\n",
    "kfoldLabels = np.array_split(comClass, k)\n",
    "print(kfoldData[0].shape)"
   ]
  },
  {
   "cell_type": "markdown",
   "metadata": {},
   "source": [
    "# Neural Network"
   ]
  },
  {
   "cell_type": "code",
   "execution_count": 5,
   "metadata": {
    "collapsed": true
   },
   "outputs": [],
   "source": [
    "spec = []\n",
    "sens = []\n",
    "roc = []"
   ]
  },
  {
   "cell_type": "code",
   "execution_count": 6,
   "metadata": {
    "collapsed": false,
    "scrolled": false
   },
   "outputs": [
    {
     "name": "stdout",
     "output_type": "stream",
     "text": [
      "Training Step: 1139  | total loss: \u001b[1m\u001b[32m0.28498\u001b[0m\u001b[0m | time: 33.691s\n",
      "| Adam | epoch: 030 | loss: 0.28498 - acc: 0.8971 -- iter: 296/300\n",
      "Training Step: 1140  | total loss: \u001b[1m\u001b[32m0.26913\u001b[0m\u001b[0m | time: 34.624s\n",
      "| Adam | epoch: 030 | loss: 0.26913 - acc: 0.9074 -- iter: 300/300\n",
      "--\n"
     ]
    }
   ],
   "source": [
    "for i in np.arange(0,k,1):\n",
    "    for j in np.arange(0,8,1):\n",
    "        sess = tf.InteractiveSession()\n",
    "        tf.reset_default_graph()\n",
    "        tflearn.initializations.normal()\n",
    "\n",
    "        # Input layer:\n",
    "        net = tflearn.layers.core.input_data(shape=[None, 10, 19, 17, 1])\n",
    "\n",
    "        # First layer:\n",
    "        net = tflearn.layers.conv.conv_3d(net, 8, [5,5,5],  activation=\"leaky_relu\")\n",
    "        net = tflearn.layers.conv.max_pool_3d(net, 2, strides=2)\n",
    "\n",
    "        # Second layer:\n",
    "        net = tflearn.layers.conv.conv_3d(net, 16, [5,5,5], activation=\"leaky_relu\")\n",
    "        net = tflearn.layers.conv.max_pool_3d(net, 2, strides=2)\n",
    "\n",
    "        # Fully connected layer\n",
    "        net = tflearn.layers.core.fully_connected(net, 1024, regularizer=\"L2\", weight_decay=0.001, activation=\"leaky_relu\")\n",
    "        #net = tflearn.layers.core.fully_connected(net, 1024, regularizer=\"L2\", weight_decay=0.001, activation=\"leaky_relu\")\n",
    "\n",
    "        # Dropout layer:\n",
    "        net = tflearn.layers.core.dropout(net, keep_prob=0.5)\n",
    "\n",
    "        # Output layer:\n",
    "        net = tflearn.layers.core.fully_connected(net, 2, activation=\"softmax\")\n",
    "\n",
    "        net = tflearn.layers.estimator.regression(net, optimizer='adam', learning_rate=0.0001, loss='categorical_crossentropy')\n",
    "\n",
    "        model = tflearn.DNN(net, tensorboard_verbose=0)\n",
    "\n",
    "        dummyData = np.reshape(np.concatenate(kfoldData[:i] + kfoldData[i+1:], axis=0), [-1, 2000, 19, 17, 1])\n",
    "        dummyData = dummyData[:,::40]\n",
    "        dummyData = dummyData[:,0 + j*5: 10 + j*5]\n",
    "        print(dummyData[0,:].shape)\n",
    "        dummyLabels = np.reshape(np.concatenate(kfoldLabelsOH[:i] + kfoldLabelsOH[i+1:], axis=0), [-1, 2])\n",
    "        model.fit(dummyData, dummyLabels, batch_size=8, n_epoch=30, show_metric=True)\n",
    "\n",
    "        illTest = []\n",
    "        healthTest = []\n",
    "        for index, item in enumerate(kfoldLabels[i]):\n",
    "            if item == 1:\n",
    "                illTest.append(kfoldData[i][index])\n",
    "            if item == 0:\n",
    "                healthTest.append(kfoldData[i][index])\n",
    "\n",
    "        healthLabel = np.tile([1,0], (len(healthTest), 1))\n",
    "        illLabel = np.tile([0,1], (len(illTest), 1))\n",
    "        \n",
    "        sens.append(model.evaluate(np.array(healthTest)[:,::40][:,0 + j*5: 10 + j*5], healthLabel))\n",
    "        spec.append(model.evaluate(np.array(illTest)[:,::40][:,0 + j*5: 10 + j*5], illLabel))\n",
    "\n",
    "        # Get roc curve data\n",
    "        predicted = np.array(model.predict(np.array(kfoldData[i])[:,::40][:,0 + j*5: 10 + j*5]))\n",
    "        auc = roc_auc_score(kfoldLabels[i], predicted[:,1])\n",
    "        roc.append(auc)"
   ]
  },
  {
   "cell_type": "code",
   "execution_count": 7,
   "metadata": {
    "collapsed": false
   },
   "outputs": [],
   "source": [
    "spec = np.reshape(np.array(spec), (k,8))\n",
    "sens = np.reshape(np.array(sens), (k,8))\n",
    "roc = np.reshape(np.array(roc), (k,8))"
   ]
  },
  {
   "cell_type": "code",
   "execution_count": 8,
   "metadata": {
    "collapsed": false
   },
   "outputs": [],
   "source": [
    "#model.save(\"./outData/models/3d_conv8-16-50.tflearn\")\n",
    "#model.load(\"./outData/models/3d_conv.tflearn\")"
   ]
  },
  {
   "cell_type": "code",
   "execution_count": 9,
   "metadata": {
    "collapsed": false
   },
   "outputs": [
    {
     "name": "stdout",
     "output_type": "stream",
     "text": [
      "Specificity: [ 0.68627453  0.66666669  0.64705884  0.58823532  0.68627453  0.92156863\n",
      "  0.86274511  0.68627453] \n",
      "Sensitivity: [ 0.59183675  0.83673471  0.67346936  0.59183675  0.79591835  0.71428573\n",
      "  0.73469388  0.85714287]\n",
      "Specificity: [ 0.79591835  0.73469388  0.5714286   0.77551019  0.69387758  0.93877554\n",
      "  0.79591835  0.75510204] \n",
      "Sensitivity: [ 0.39215687  0.72549021  0.68627453  0.66666669  0.78431374  0.68627453\n",
      "  0.78431374  0.84313726]\n",
      "Specificity: [ 0.46000001  0.57999998  0.5         0.77999997  0.72000003  0.72000003\n",
      "  0.81999999  0.81999999] \n",
      "Sensitivity: [ 0.81999999  0.77999997  0.86000001  0.54000002  0.74000001  0.83999997\n",
      "  0.81999999  0.75999999]\n",
      "Specificity: [ 0.54347825  0.47826087  0.36956522  0.45652175  0.73913044  0.60869563\n",
      "  0.80434781  0.76086956] \n",
      "Sensitivity: [ 0.7037037   0.74074072  0.83333331  0.66666669  0.6111111   0.81481481\n",
      "  0.68518519  0.74074072]\n"
     ]
    },
    {
     "data": {
      "image/png": "[encoded data removed]",
      "text/plain": [
       "<matplotlib.figure.Figure at 0x1067c2b70>"
      ]
     },
     "metadata": {},
     "output_type": "display_data"
    }
   ],
   "source": [
    "for i in np.arange(0,k,1):\n",
    "    print(\"Specificity:\", spec[i], \"\\nSensitivity:\", sens[i])\n",
    "\n",
    "xax = [5,10,15,20,25,30,35,40]\n",
    "for i in np.arange(0,k,1):\n",
    "    plt.plot(xax, roc[i], \"x\")"
   ]
  },
  {
   "cell_type": "code",
   "execution_count": 12,
   "metadata": {
    "collapsed": false
   },
   "outputs": [
    {
     "data": {
      "image/png": "[encoded data removed]",
      "text/plain": [
       "<matplotlib.figure.Figure at 0xb36bfe240>"
      ]
     },
     "metadata": {},
     "output_type": "display_data"
    }
   ],
   "source": [
    "rocAv = []\n",
    "for i in np.arange(8):\n",
    "    rocAv.append(np.mean(roc[:,i]))\n",
    "plt.plot(xax, rocAv, \"o\")\n",
    "plt.savefig(\"/Users/controller/Desktop/diagAUC/roc1.png\")"
   ]
  },
  {
   "cell_type": "code",
   "execution_count": 11,
   "metadata": {
    "collapsed": false
   },
   "outputs": [],
   "source": [
    "np.save(\"/Users/controller/Desktop/diagAUC/spec2\", spec)\n",
    "np.save(\"/Users/controller/Desktop/diagAUC/sens2\", sens)\n",
    "np.save(\"/Users/controller/Desktop/diagAUC/roc2\", roc)"
   ]
  },
  {
   "cell_type": "code",
   "execution_count": null,
   "metadata": {
    "collapsed": true
   },
   "outputs": [],
   "source": []
  }
 ],
 "metadata": {
  "kernelspec": {
   "display_name": "Python 3",
   "language": "python",
   "name": "python3"
  },
  "language_info": {
   "codemirror_mode": {
    "name": "ipython",
    "version": 3
   },
   "file_extension": ".py",
   "mimetype": "text/x-python",
   "name": "python",
   "nbconvert_exporter": "python",
   "pygments_lexer": "ipython3",
   "version": "3.5.3"
  }
 },
 "nbformat": 4,
 "nbformat_minor": 1
}
