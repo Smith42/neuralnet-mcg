{
 "cells": [
  {
   "cell_type": "code",
   "execution_count": null,
   "metadata": {
    "collapsed": true,
    "scrolled": true
   },
   "outputs": [],
   "source": [
    "import tensorflow as tf\n",
    "#import tensorflow.contrib.learn.python.learn as learn\n",
    "import tflearn \n",
    "import scipy as sp\n",
    "import numpy as np \n",
    "import matplotlib.pyplot as plt\n",
    "from random import shuffle, randint\n",
    "from sklearn.utils import shuffle as mutualShuf\n",
    "from sklearn.preprocessing import normalize\n",
    "from sklearn.metrics import roc_auc_score\n",
    "import os\n",
    "import pandas as pd\n",
    "import sklearn\n",
    "import datetime\n",
    "%matplotlib inline"
   ]
  },
  {
   "cell_type": "markdown",
   "metadata": {},
   "source": [
    "# Import and process data"
   ]
  },
  {
   "cell_type": "code",
   "execution_count": null,
   "metadata": {
    "collapsed": true,
    "scrolled": true
   },
   "outputs": [],
   "source": [
    "def processClassData(classData):\n",
    "    \"\"\"\n",
    "    Process classData.\n",
    "    \n",
    "    Returns a one-hot array of shape [len(classData), 2].\n",
    "    \"\"\"\n",
    "    # Convert label data to one-hot array\n",
    "          \n",
    "    classDataOH = np.zeros((len(classData),2))\n",
    "    classDataOH[np.arange(len(classData)), classData] = 1\n",
    "    \n",
    "    return classDataOH\n",
    "\n",
    "unseenData = np.load(\"/tmp/unseenData.npy\")\n",
    "unseenClass = np.load(\"/tmp/unseenClass.npy\")\n",
    "ecgData = np.load(\"/tmp/ecgData.npy\")\n",
    "classData = np.load(\"/tmp/classData.npy\")\n",
    "unseenClassOH = processClassData(unseenClass)\n",
    "classDataOH = processClassData(classData)"
   ]
  },
  {
   "cell_type": "code",
   "execution_count": null,
   "metadata": {
    "scrolled": false
   },
   "outputs": [],
   "source": [
    "print(ecgData[1].shape)\n",
    "plt.plot(ecgData[1])"
   ]
  },
  {
   "cell_type": "code",
   "execution_count": null,
   "metadata": {
    "scrolled": true
   },
   "outputs": [],
   "source": [
    "print(unseenData.shape)\n",
    "plt.plot(unseenData[0])"
   ]
  },
  {
   "cell_type": "code",
   "execution_count": null,
   "metadata": {
    "collapsed": true
   },
   "outputs": [],
   "source": [
    "def splitData(coilData, classData):\n",
    "    \"\"\"\n",
    "    Split data into healthy and ill types.\n",
    "    \"\"\"\n",
    "    illData = []\n",
    "    healthData = []\n",
    "    \n",
    "    for index, item in enumerate(classData):\n",
    "        if item == 1:\n",
    "            illData.append(coilData[index])\n",
    "        if item == 0:\n",
    "            healthData.append(coilData[index])\n",
    "            \n",
    "    return illData, healthData\n",
    "\n",
    "tillarr, thealtharr = splitData(unseenData, unseenClass)"
   ]
  },
  {
   "cell_type": "markdown",
   "metadata": {},
   "source": [
    "# Neural Network"
   ]
  },
  {
   "cell_type": "code",
   "execution_count": null,
   "metadata": {
    "collapsed": true
   },
   "outputs": [],
   "source": [
    "spec = []\n",
    "sens = []\n",
    "auc = []"
   ]
  },
  {
   "cell_type": "code",
   "execution_count": null,
   "metadata": {},
   "outputs": [],
   "source": [
    "for i in np.arange(3):\n",
    "    for j in np.arange(33):\n",
    "        sess = tf.InteractiveSession()\n",
    "        tf.reset_default_graph()\n",
    "        tflearn.initializations.normal()\n",
    "\n",
    "        # Input layer:\n",
    "        net = tflearn.layers.core.input_data(shape=[None, 200, 1])\n",
    "\n",
    "        # First layer:\n",
    "        net = tflearn.layers.conv.conv_1d(net, 32, 5, activation=\"leaky_relu\")\n",
    "        net = tflearn.layers.conv.max_pool_1d(net, 2, strides=2)\n",
    "\n",
    "        # Second layer:\n",
    "        net = tflearn.layers.conv.conv_1d(net, 64, 5, activation=\"leaky_relu\")\n",
    "        net = tflearn.layers.conv.max_pool_1d(net, 2, strides=2)\n",
    "\n",
    "        # Fully connected layer 1:\n",
    "        net = tflearn.layers.core.fully_connected(net, 1024, regularizer=\"L2\", weight_decay=0.001, activation=\"leaky_relu\")\n",
    "\n",
    "        # Dropout layer:\n",
    "        net = tflearn.layers.core.dropout(net, keep_prob=0.5)\n",
    "\n",
    "        # Output layer:\n",
    "        net = tflearn.layers.core.fully_connected(net, 2, activation=\"softmax\")\n",
    "\n",
    "        net = tflearn.layers.estimator.regression(net, optimizer='adam', loss='categorical_crossentropy',\\\n",
    "                                 learning_rate=0.00001)\n",
    "\n",
    "        model = tflearn.DNN(net, tensorboard_verbose=0)\n",
    "        dummyData = ecgData[:,0+25*j:200+25*j]\n",
    "        model.fit(dummyData, classDataOH, n_epoch=1, show_metric=True)\n",
    "\n",
    "        sens.append(model.evaluate(np.array(thealtharr)[:,0+25*j:200+25*j], np.tile([1,0], (len(thealtharr), 1)))[0])\n",
    "        spec.append(model.evaluate(np.array(tillarr)[:,0+25*j:200+25*j], np.tile([0,1], (len(tillarr), 1)))[0])\n",
    "        lenh = len(thealtharr)\n",
    "        leni = len(tillarr)\n",
    "        predicted = np.array(model.predict(np.array(unseenData)[:,0+25*j:200+25*j]))\n",
    "        auc.append(roc_auc_score(unseenClass, predicted[:,1]))"
   ]
  },
  {
   "cell_type": "code",
   "execution_count": null,
   "metadata": {
    "collapsed": true
   },
   "outputs": [],
   "source": [
    "# Save model?\n",
    "#now = datetime.datetime.now()\n",
    "#model.save(\"./outData/models/cleanECG_undiff_FrankCAT2_\"+now.isoformat()+\"_.tflearn\")"
   ]
  },
  {
   "cell_type": "code",
   "execution_count": null,
   "metadata": {},
   "outputs": [],
   "source": [
    "avg = []\n",
    "for i in np.arange(np.shape(spec)[0]):\n",
    "    avg.append(np.mean([spec[i], sens[i]]))"
   ]
  },
  {
   "cell_type": "code",
   "execution_count": null,
   "metadata": {
    "scrolled": false
   },
   "outputs": [],
   "source": [
    "auc = np.reshape(auc, (3,-1))\n",
    "print(auc.shape)\n",
    "print(np.arange(100,925,25).shape)\n",
    "plt.plot(np.arange(100,925,25), auc[0], \"x\")\n",
    "plt.plot(np.arange(100,925,25), auc[1], \"x\")\n",
    "plt.plot(np.arange(100,925,25), auc[2], \"x\")\n",
    "plt.plot(ecgData[0]*1.5)\n",
    "plt.title(\"ROC AUC values for sections of ECG scans \\n 200 wide sections, step 25\")\n",
    "plt.xlabel(\"Index\")\n",
    "plt.ylabel(\"AUC\")\n",
    "plt.tight_layout()\n",
    "plt.savefig(\"../thesis/images/ecgauc.pdf\")"
   ]
  }
 ],
 "metadata": {
  "kernelspec": {
   "display_name": "Python 3",
   "language": "python",
   "name": "python3"
  },
  "language_info": {
   "codemirror_mode": {
    "name": "ipython",
    "version": 3
   },
   "file_extension": ".py",
   "mimetype": "text/x-python",
   "name": "python",
   "nbconvert_exporter": "python",
   "pygments_lexer": "ipython3",
   "version": "3.5.3"
  }
 },
 "nbformat": 4,
 "nbformat_minor": 2
}
