{
 "cells": [
  {
   "cell_type": "code",
   "execution_count": 6,
   "metadata": {
    "collapsed": false
   },
   "outputs": [
    {
     "name": "stdout",
     "output_type": "stream",
     "text": [
      "Training Step: 339  | total loss: \u001b[1m\u001b[32m0.63160\u001b[0m\u001b[0m | time: 0.073s\n",
      "| Adam | epoch: 010 | loss: 0.63160 - acc: 0.6690 -- iter: 264/266\n",
      "Training Step: 340  | total loss: \u001b[1m\u001b[32m0.62547\u001b[0m\u001b[0m | time: 0.074s\n",
      "| Adam | epoch: 010 | loss: 0.62547 - acc: 0.6646 -- iter: 266/266\n",
      "--\n"
     ]
    }
   ],
   "source": [
    "#!/usr/bin/python\n",
    "\n",
    "import sys\n",
    "import tensorflow as tf\n",
    "#import tensorflow.contrib.learn.python.learn as learn\n",
    "import tflearn\n",
    "import scipy as sp\n",
    "import numpy as np\n",
    "import matplotlib.pyplot as plt\n",
    "import six\n",
    "from sklearn.metrics import roc_curve, roc_auc_score\n",
    "\n",
    "\"\"\"\n",
    "    The first argv is the kfold number. Second argv is the step number.\n",
    "\"\"\"\n",
    "k = 3\n",
    "i = 0\n",
    "j = 0\n",
    "comData = np.load(\"../inData/3D-conv/comData.npy\")\n",
    "comClass = np.load(\"../inData//3D-conv/comClass.npy\")\n",
    "\n",
    "def processClassData(classData):\n",
    "    \"\"\"\n",
    "    Process classData.\n",
    "    \n",
    "    Returns a one-hot array of shape [len(classData), 2].\n",
    "    \"\"\"\n",
    "    # Convert label data to one-hot array\n",
    "          \n",
    "    classDataOH = np.zeros((len(classData),2))\n",
    "    classDataOH[np.arange(len(classData)), classData] = 1\n",
    "    \n",
    "    return classDataOH\n",
    "\n",
    "comData = comData[..., np.newaxis]\n",
    "comClassOH = processClassData(comClass)\n",
    "\n",
    "kfoldData = np.array_split(comData, k)\n",
    "kfoldLabelsOH = np.array_split(comClassOH, k)\n",
    "kfoldLabels = np.array_split(comClass, k)\n",
    "\n",
    "spec, sens, auc = np.load(\"../outData/diagAUC-3d_conv8-16_sub40_k2_80epoch.npy\")\n",
    "\n",
    "# Does spec, sens, and auc exist?\n",
    "try:\n",
    "    spec\n",
    "except NameError:\n",
    "    spec = np.zeros(1)\n",
    "try:\n",
    "    sens\n",
    "except NameError:\n",
    "    sens = np.zeros(1)\n",
    "try:\n",
    "    auc\n",
    "except NameError:\n",
    "    auc = np.zeros(1)\n",
    "\n",
    "subsamp = 40\n",
    "winWidth = 10 # Must be a factor of data length (2000) and even.\n",
    "steps = (2*(2000/subsamp)/winWidth)-1\n",
    "if (2000/subsamp)%2 != 1:\n",
    "    steps -= 1\n",
    "\n",
    "sess = tf.InteractiveSession()\n",
    "tf.reset_default_graph()\n",
    "tflearn.initializations.normal()\n",
    "\n",
    "# Input layer:\n",
    "net = tflearn.layers.core.input_data(shape=[None, winWidth, 19, 17, 1])\n",
    "\n",
    "# First layer:\n",
    "net = tflearn.layers.conv.conv_3d(net, 8, [5,5,5],  activation=\"leaky_relu\")\n",
    "net = tflearn.layers.conv.max_pool_3d(net, 2, strides=2)\n",
    "\n",
    "# Second layer:\n",
    "net = tflearn.layers.conv.conv_3d(net, 16, [5,5,5], activation=\"leaky_relu\")\n",
    "net = tflearn.layers.conv.max_pool_3d(net, 2, strides=2)\n",
    "\n",
    "# Fully connected layer\n",
    "net = tflearn.layers.core.fully_connected(net, 1024, regularizer=\"L2\", weight_decay=0.001, activation=\"leaky_relu\")\n",
    "#net = tflearn.layers.core.fully_connected(net, 1024, regularizer=\"L2\", weight_decay=0.001, activation=\"leaky_relu\")\n",
    "\n",
    "# Dropout layer:\n",
    "net = tflearn.layers.core.dropout(net, keep_prob=0.5)\n",
    "\n",
    "# Output layer:\n",
    "net = tflearn.layers.core.fully_connected(net, 2, activation=\"softmax\")\n",
    "\n",
    "net = tflearn.layers.estimator.regression(net, optimizer='adam', learning_rate=0.0001, loss='categorical_crossentropy')\n",
    "\n",
    "model = tflearn.DNN(net, tensorboard_verbose=0)\n",
    "\n",
    "dummyData = np.reshape(np.concatenate(kfoldData[:i] + kfoldData[i+1:], axis=0), [-1, 2000, 19, 17, 1])\n",
    "dummyData = dummyData[:,::subsamp]\n",
    "dummyData = dummyData[:,int(0 + j*winWidth/2): int(winWidth + j*winWidth/2)]\n",
    "print(dummyData[0,:].shape)\n",
    "dummyLabels = np.reshape(np.concatenate(kfoldLabelsOH[:i] + kfoldLabelsOH[i+1:], axis=0), [-1, 2])\n",
    "model.fit(dummyData, dummyLabels, batch_size=8, n_epoch=10, show_metric=True)\n",
    "\n",
    "# Get roc curve data\n",
    "predicted = np.array(model.predict(np.array(kfoldData[i])[:,::subsamp][:,int(0 + j*winWidth/2): int(winWidth + j*winWidth/2)]))\n",
    "auc = np.append(auc, roc_auc_score(kfoldLabels[i], predicted[:,1]))\n",
    "\n",
    "illTest = []\n",
    "healthTest = []\n",
    "for index, item in enumerate(kfoldLabels[i]):\n",
    "    if item == 1:\n",
    "        illTest.append(kfoldData[i][index])\n",
    "    if item == 0:\n",
    "        healthTest.append(kfoldData[i][index])\n",
    "\n",
    "healthLabel = np.tile([1,0], (len(healthTest), 1))\n",
    "illLabel = np.tile([0,1], (len(illTest), 1))\n",
    "\n",
    "sens = np.append(sens, model.evaluate(np.array(healthTest)[:,::subsamp][:,int(0 + j*winWidth/2): int(winWidth + j*winWidth/2)], healthLabel)[0])\n",
    "spec = np.append(spec, model.evaluate(np.array(illTest)[:,::subsamp][:,int(0 + j*winWidth/2): int(winWidth + j*winWidth/2)], illLabel)[0])\n",
    "\n",
    "print(spec, sens, auc)\n",
    "np.save(\"../outData/diagAUC-3d_conv8-16_sub40_k2_80epoch.npy\", (spec, sens, auc))"
   ]
  },
  {
   "cell_type": "code",
   "execution_count": 7,
   "metadata": {
    "collapsed": false
   },
   "outputs": [
    {
     "name": "stdout",
     "output_type": "stream",
     "text": [
      "[ 0.5718757   0.60451598  0.55913257] [ 0.50704223  0.59154928  0.52112675] [ 0.58730161  0.65079367  0.5714286 ]\n"
     ]
    }
   ],
   "source": [
    "print(auc, spec, sens)"
   ]
  },
  {
   "cell_type": "code",
   "execution_count": null,
   "metadata": {
    "collapsed": true
   },
   "outputs": [],
   "source": []
  }
 ],
 "metadata": {
  "kernelspec": {
   "display_name": "Python 3",
   "language": "python",
   "name": "python3"
  },
  "language_info": {
   "codemirror_mode": {
    "name": "ipython",
    "version": 3
   },
   "file_extension": ".py",
   "mimetype": "text/x-python",
   "name": "python",
   "nbconvert_exporter": "python",
   "pygments_lexer": "ipython3",
   "version": "3.5.3"
  }
 },
 "nbformat": 4,
 "nbformat_minor": 2
}
