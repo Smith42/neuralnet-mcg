{
 "cells": [
  {
   "cell_type": "code",
   "execution_count": 1,
   "metadata": {
    "collapsed": false,
    "deletable": true,
    "editable": true,
    "scrolled": true
   },
   "outputs": [
    {
     "name": "stdout",
     "output_type": "stream",
     "text": [
      "hdf5 is not supported on this machine (please install/reinstall h5py for optimal experience)\n"
     ]
    }
   ],
   "source": [
    "import tensorflow as tf\n",
    "#import tensorflow.contrib.learn.python.learn as learn\n",
    "import tflearn \n",
    "import scipy as sp\n",
    "import numpy as np \n",
    "import matplotlib.pyplot as plt\n",
    "import six\n",
    "from sklearn.metrics import roc_curve\n",
    "import datetime\n",
    "%matplotlib inline"
   ]
  },
  {
   "cell_type": "code",
   "execution_count": 2,
   "metadata": {
    "collapsed": false,
    "deletable": true,
    "editable": true
   },
   "outputs": [],
   "source": [
    "comData = np.load(\"../inData/comData.npy\")\n",
    "comClass = np.load(\"../inData/comClass.npy\")"
   ]
  },
  {
   "cell_type": "code",
   "execution_count": 3,
   "metadata": {
    "collapsed": false,
    "deletable": true,
    "editable": true
   },
   "outputs": [],
   "source": [
    "def processClassData(classData):\n",
    "    \"\"\"\n",
    "    Process classData.\n",
    "    Returns a one-hot array of shape [len(classData), 2].\n",
    "    \"\"\"\n",
    "    # Convert label data to one-hot array\n",
    "          \n",
    "    classDataOH = np.zeros((len(classData),2))\n",
    "    classDataOH[np.arange(len(classData)), classData] = 1\n",
    "    \n",
    "    return classDataOH\n",
    "\n",
    "comData = comData[..., np.newaxis]\n",
    "comClassOH = processClassData(comClass)"
   ]
  },
  {
   "cell_type": "code",
   "execution_count": 5,
   "metadata": {
    "collapsed": false,
    "deletable": true,
    "editable": true
   },
   "outputs": [
    {
     "name": "stdout",
     "output_type": "stream",
     "text": [
      "(80, 2000, 19, 17, 1)\n"
     ]
    }
   ],
   "source": [
    "# kfold x-validation...\n",
    "k = 5\n",
    "kfoldData = np.array_split(comData, k)\n",
    "kfoldLabelsOH = np.array_split(comClassOH, k)\n",
    "kfoldLabels = np.array_split(comClass, k)\n",
    "print(kfoldData[0].shape)"
   ]
  },
  {
   "cell_type": "markdown",
   "metadata": {
    "deletable": true,
    "editable": true
   },
   "source": [
    "# Neural Network"
   ]
  },
  {
   "cell_type": "code",
   "execution_count": 6,
   "metadata": {
    "collapsed": true,
    "deletable": true,
    "editable": true
   },
   "outputs": [],
   "source": [
    "spec = []\n",
    "sens = []\n",
    "roc = []"
   ]
  },
  {
   "cell_type": "code",
   "execution_count": 7,
   "metadata": {
    "collapsed": true,
    "deletable": true,
    "editable": true
   },
   "outputs": [],
   "source": [
    "subsamp = 40"
   ]
  },
  {
   "cell_type": "code",
   "execution_count": 8,
   "metadata": {
    "collapsed": false,
    "deletable": true,
    "editable": true,
    "scrolled": false
   },
   "outputs": [
    {
     "name": "stdout",
     "output_type": "stream",
     "text": [
      "Training Step: 3999  | total loss: \u001b[1m\u001b[32m0.03193\u001b[0m\u001b[0m | time: 8.605s\n",
      "| Adam | epoch: 100 | loss: 0.03193 - acc: 0.9971 -- iter: 312/320\n",
      "Training Step: 4000  | total loss: \u001b[1m\u001b[32m0.03193\u001b[0m\u001b[0m | time: 8.819s\n",
      "| Adam | epoch: 100 | loss: 0.03193 - acc: 0.9971 -- iter: 320/320\n",
      "--\n"
     ]
    }
   ],
   "source": [
    "for i in np.arange(0,k,1):\n",
    "    sess = tf.InteractiveSession()\n",
    "    tf.reset_default_graph()\n",
    "    tflearn.initializations.normal()\n",
    "\n",
    "    # Input layer:\n",
    "    net = tflearn.layers.core.input_data(shape=[None, 22, 19, 17, 1])\n",
    "\n",
    "    # First layer:\n",
    "    net = tflearn.layers.conv.conv_3d(net, 8, [5,5,5],  activation=\"leaky_relu\", \\\n",
    "                                      regularizer='L2', weight_decay=0.001)\n",
    "    net = tflearn.layers.conv.max_pool_3d(net, 2, strides=2)\n",
    "\n",
    "    # Second layer:\n",
    "    net = tflearn.layers.conv.conv_3d(net, 16, [5,5,5], activation=\"leaky_relu\", \\\n",
    "                                      regularizer='L2', weight_decay=0.001)\n",
    "    net = tflearn.layers.conv.max_pool_3d(net, 2, strides=2)\n",
    "\n",
    "    # Fully connected layer\n",
    "    net = tflearn.layers.core.fully_connected(net, 1024, regularizer=\"L2\", \\\n",
    "                                              weight_decay=0.001, activation=\"leaky_relu\")\n",
    "    #net = tflearn.layers.core.fully_connected(net, 1024, regularizer=\"L2\", \\\n",
    "    #                                          weight_decay=0.001, activation=\"leaky_relu\")\n",
    "    \n",
    "    # Dropout layer:\n",
    "    net = tflearn.layers.core.dropout(net, keep_prob=0.5)\n",
    "\n",
    "    # Output layer:\n",
    "    net = tflearn.layers.core.fully_connected(net, 2, activation=\"softmax\")\n",
    "\n",
    "    net = tflearn.layers.estimator.regression(net, optimizer='adam', \\\n",
    "                                              learning_rate=0.0001, loss='categorical_crossentropy')\n",
    "    #Could use loss function: 'roc_auc_score'\n",
    "    \n",
    "    model = tflearn.DNN(net, tensorboard_verbose=3)\n",
    "    \n",
    "    dummyData = np.reshape(np.concatenate(kfoldData[:i] + kfoldData[i+1:], axis=0), [-1, 2000, 19, 17, 1])\n",
    "    dummyData = dummyData[:,1120:][:,::40]\n",
    "    dummyLabels = np.reshape(np.concatenate(kfoldLabelsOH[:i] + kfoldLabelsOH[i+1:], axis=0), [-1, 2])\n",
    "    \n",
    "    illTest = []\n",
    "    healthTest = []\n",
    "    for index, item in enumerate(kfoldLabels[i]):\n",
    "        if item == 1:\n",
    "            illTest.append(kfoldData[i][index])\n",
    "        if item == 0:\n",
    "            healthTest.append(kfoldData[i][index])\n",
    "    healthLabel = np.tile([1,0], (len(healthTest), 1))\n",
    "    illLabel = np.tile([0,1], (len(illTest), 1))\n",
    "    \n",
    "    model.fit(dummyData, dummyLabels, batch_size=8, n_epoch=100, show_metric=True)\n",
    "\n",
    "    sens.append(model.evaluate(np.array(healthTest)[:,1120:][:,::40], healthLabel))\n",
    "    spec.append(model.evaluate(np.array(illTest)[:,1120:][:,::40], illLabel))\n",
    "\n",
    "    # Get roc curve data\n",
    "    predicted = np.array(model.predict(np.array(kfoldData[i])[:,1120:][:,::40]))\n",
    "    fpr, tpr, th = roc_curve(kfoldLabels[i], predicted[:,1])\n",
    "    roc.append([fpr, tpr])"
   ]
  },
  {
   "cell_type": "code",
   "execution_count": 12,
   "metadata": {
    "collapsed": false,
    "deletable": true,
    "editable": true
   },
   "outputs": [
    {
     "name": "stdout",
     "output_type": "stream",
     "text": [
      "INFO:tensorflow:/home/john/biomag/neuralnet-mcg/rocComparison/outData/models/3d_conv8-16_sub40_k5_100epoch.tflearn is not in all_model_checkpoint_paths. Manually adding it.\n"
     ]
    }
   ],
   "source": [
    "model.save(\"./outData/models/3d_conv8-16_sub40_k5_100epoch.tflearn\")\n",
    "np.save(\"./outData/3d_conv8-16_sub40_k5_100epoch.npy\", [spec, sens, roc])\n",
    "#model.load(\"./outData/models/3d_conv.tflearn\")"
   ]
  },
  {
   "cell_type": "code",
   "execution_count": 13,
   "metadata": {
    "collapsed": false
   },
   "outputs": [
    {
     "name": "stdout",
     "output_type": "stream",
     "text": [
      "('Specificity:', [[0.86046516895294189], [0.91891896724700928], [0.8611111044883728], [0.0], [0.69444441795349121]], '\\nAvg:', 0.66698793172836301, '\\nSensitivity:', [[0.94594597816467285], [0.90697669982910156], [0.88636362552642822], [0.91666668653488159], [0.95454549789428711]], '\\nAvg:', 0.92209969758987431)\n"
     ]
    },
    {
     "data": {
      "image/png": "[encoded data removed]",
      "text/plain": [
       "<matplotlib.figure.Figure at 0x7f444a52a150>"
      ]
     },
     "metadata": {},
     "output_type": "display_data"
    }
   ],
   "source": [
    "#3d_conv8-16_sub40_k5_100epoch.npy\n",
    "print(\"Specificity:\", spec, \"\\nAvg:\", np.mean(spec), \"\\nSensitivity:\", sens, \"\\nAvg:\", np.mean(sens))\n",
    "for i in np.arange(k):\n",
    "    plt.plot(roc[i][0], roc[i][1])"
   ]
  },
  {
   "cell_type": "code",
   "execution_count": 10,
   "metadata": {
    "collapsed": false
   },
   "outputs": [
    {
     "name": "stdout",
     "output_type": "stream",
     "text": [
      "('Specificity:', [[0.84057974815368652], [0.8461538553237915], [0.69354832172393799]], '\\nAvg:', 0.79342730840047204, '\\nSensitivity:', [[0.86153846979141235], [0.75], [0.91549301147460938]], '\\nAvg:', 0.84234382708867395)\n"
     ]
    },
    {
     "data": {
      "image/png": "[encoded data removed]",
      "text/plain": [
       "<matplotlib.figure.Figure at 0x7fca8f2631d0>"
      ]
     },
     "metadata": {},
     "output_type": "display_data"
    }
   ],
   "source": [
    "#3d_conv8-16_sub40_k3_30epoch.npy\n",
    "print(\"Specificity:\", spec, \"\\nAvg:\", np.mean(spec), \"\\nSensitivity:\", sens, \"\\nAvg:\", np.mean(sens))\n",
    "for i in np.arange(k):\n",
    "    plt.plot(roc[i][0], roc[i][1])"
   ]
  },
  {
   "cell_type": "code",
   "execution_count": 8,
   "metadata": {
    "collapsed": false,
    "deletable": true,
    "editable": true
   },
   "outputs": [
    {
     "name": "stdout",
     "output_type": "stream",
     "text": [
      "Specificity: [[0.77464789152145386], [0.93442624807357788], [0.8125]] \n",
      "Avg: 0.840524713198 \n",
      "Sensitivity: [[0.8095238208770752], [0.77777779102325439], [0.85507243871688843]] \n",
      "Avg: 0.814124683539\n"
     ]
    },
    {
     "data": {
      "image/png": "[encoded data removed]",
      "text/plain": [
       "<matplotlib.figure.Figure at 0x11a9ca630>"
      ]
     },
     "metadata": {},
     "output_type": "display_data"
    }
   ],
   "source": [
    "print(\"Specificity:\", spec, \"\\nAvg:\", np.mean(spec), \"\\nSensitivity:\", sens, \"\\nAvg:\", np.mean(sens))\n",
    "for i in np.arange(k):\n",
    "    plt.plot(roc[i][0], roc[i][1])"
   ]
  },
  {
   "cell_type": "code",
   "execution_count": 11,
   "metadata": {
    "collapsed": false,
    "scrolled": true
   },
   "outputs": [
    {
     "ename": "IOError",
     "evalue": "[Errno 2] No such file or directory: '/Users/controller/Desktop/roc_BCG1FC.png'",
     "output_type": "error",
     "traceback": [
      "\u001b[0;31m---------------------------------------------------------------------------\u001b[0m",
      "\u001b[0;31mIOError\u001b[0m                                   Traceback (most recent call last)",
      "\u001b[0;32m<ipython-input-11-897f9dd211b0>\u001b[0m in \u001b[0;36m<module>\u001b[0;34m()\u001b[0m\n\u001b[1;32m      5\u001b[0m \u001b[0mplt\u001b[0m\u001b[0;34m.\u001b[0m\u001b[0mylabel\u001b[0m\u001b[0;34m(\u001b[0m\u001b[0;34m\"TPR\"\u001b[0m\u001b[0;34m)\u001b[0m\u001b[0;34m\u001b[0m\u001b[0m\n\u001b[1;32m      6\u001b[0m \u001b[0mplt\u001b[0m\u001b[0;34m.\u001b[0m\u001b[0mtitle\u001b[0m\u001b[0;34m(\u001b[0m\u001b[0;34m\"ROC curve for the BCG region of the scans\"\u001b[0m\u001b[0;34m)\u001b[0m\u001b[0;34m\u001b[0m\u001b[0m\n\u001b[0;32m----> 7\u001b[0;31m \u001b[0mplt\u001b[0m\u001b[0;34m.\u001b[0m\u001b[0msavefig\u001b[0m\u001b[0;34m(\u001b[0m\u001b[0;34m\"/Users/controller/Desktop/roc_BCG1FC.png\"\u001b[0m\u001b[0;34m)\u001b[0m\u001b[0;34m\u001b[0m\u001b[0m\n\u001b[0m",
      "\u001b[0;32m/usr/local/lib/python2.7/dist-packages/matplotlib/pyplot.pyc\u001b[0m in \u001b[0;36msavefig\u001b[0;34m(*args, **kwargs)\u001b[0m\n\u001b[1;32m    695\u001b[0m \u001b[0;32mdef\u001b[0m \u001b[0msavefig\u001b[0m\u001b[0;34m(\u001b[0m\u001b[0;34m*\u001b[0m\u001b[0margs\u001b[0m\u001b[0;34m,\u001b[0m \u001b[0;34m**\u001b[0m\u001b[0mkwargs\u001b[0m\u001b[0;34m)\u001b[0m\u001b[0;34m:\u001b[0m\u001b[0;34m\u001b[0m\u001b[0m\n\u001b[1;32m    696\u001b[0m     \u001b[0mfig\u001b[0m \u001b[0;34m=\u001b[0m \u001b[0mgcf\u001b[0m\u001b[0;34m(\u001b[0m\u001b[0;34m)\u001b[0m\u001b[0;34m\u001b[0m\u001b[0m\n\u001b[0;32m--> 697\u001b[0;31m     \u001b[0mres\u001b[0m \u001b[0;34m=\u001b[0m \u001b[0mfig\u001b[0m\u001b[0;34m.\u001b[0m\u001b[0msavefig\u001b[0m\u001b[0;34m(\u001b[0m\u001b[0;34m*\u001b[0m\u001b[0margs\u001b[0m\u001b[0;34m,\u001b[0m \u001b[0;34m**\u001b[0m\u001b[0mkwargs\u001b[0m\u001b[0;34m)\u001b[0m\u001b[0;34m\u001b[0m\u001b[0m\n\u001b[0m\u001b[1;32m    698\u001b[0m     \u001b[0mfig\u001b[0m\u001b[0;34m.\u001b[0m\u001b[0mcanvas\u001b[0m\u001b[0;34m.\u001b[0m\u001b[0mdraw_idle\u001b[0m\u001b[0;34m(\u001b[0m\u001b[0;34m)\u001b[0m   \u001b[0;31m# need this if 'transparent=True' to reset colors\u001b[0m\u001b[0;34m\u001b[0m\u001b[0m\n\u001b[1;32m    699\u001b[0m     \u001b[0;32mreturn\u001b[0m \u001b[0mres\u001b[0m\u001b[0;34m\u001b[0m\u001b[0m\n",
      "\u001b[0;32m/usr/local/lib/python2.7/dist-packages/matplotlib/figure.pyc\u001b[0m in \u001b[0;36msavefig\u001b[0;34m(self, *args, **kwargs)\u001b[0m\n\u001b[1;32m   1570\u001b[0m             \u001b[0mself\u001b[0m\u001b[0;34m.\u001b[0m\u001b[0mset_frameon\u001b[0m\u001b[0;34m(\u001b[0m\u001b[0mframeon\u001b[0m\u001b[0;34m)\u001b[0m\u001b[0;34m\u001b[0m\u001b[0m\n\u001b[1;32m   1571\u001b[0m \u001b[0;34m\u001b[0m\u001b[0m\n\u001b[0;32m-> 1572\u001b[0;31m         \u001b[0mself\u001b[0m\u001b[0;34m.\u001b[0m\u001b[0mcanvas\u001b[0m\u001b[0;34m.\u001b[0m\u001b[0mprint_figure\u001b[0m\u001b[0;34m(\u001b[0m\u001b[0;34m*\u001b[0m\u001b[0margs\u001b[0m\u001b[0;34m,\u001b[0m \u001b[0;34m**\u001b[0m\u001b[0mkwargs\u001b[0m\u001b[0;34m)\u001b[0m\u001b[0;34m\u001b[0m\u001b[0m\n\u001b[0m\u001b[1;32m   1573\u001b[0m \u001b[0;34m\u001b[0m\u001b[0m\n\u001b[1;32m   1574\u001b[0m         \u001b[0;32mif\u001b[0m \u001b[0mframeon\u001b[0m\u001b[0;34m:\u001b[0m\u001b[0;34m\u001b[0m\u001b[0m\n",
      "\u001b[0;32m/usr/local/lib/python2.7/dist-packages/matplotlib/backend_bases.pyc\u001b[0m in \u001b[0;36mprint_figure\u001b[0;34m(self, filename, dpi, facecolor, edgecolor, orientation, format, **kwargs)\u001b[0m\n\u001b[1;32m   2242\u001b[0m                 \u001b[0morientation\u001b[0m\u001b[0;34m=\u001b[0m\u001b[0morientation\u001b[0m\u001b[0;34m,\u001b[0m\u001b[0;34m\u001b[0m\u001b[0m\n\u001b[1;32m   2243\u001b[0m                 \u001b[0mbbox_inches_restore\u001b[0m\u001b[0;34m=\u001b[0m\u001b[0m_bbox_inches_restore\u001b[0m\u001b[0;34m,\u001b[0m\u001b[0;34m\u001b[0m\u001b[0m\n\u001b[0;32m-> 2244\u001b[0;31m                 **kwargs)\n\u001b[0m\u001b[1;32m   2245\u001b[0m         \u001b[0;32mfinally\u001b[0m\u001b[0;34m:\u001b[0m\u001b[0;34m\u001b[0m\u001b[0m\n\u001b[1;32m   2246\u001b[0m             \u001b[0;32mif\u001b[0m \u001b[0mbbox_inches\u001b[0m \u001b[0;32mand\u001b[0m \u001b[0mrestore_bbox\u001b[0m\u001b[0;34m:\u001b[0m\u001b[0;34m\u001b[0m\u001b[0m\n",
      "\u001b[0;32m/usr/local/lib/python2.7/dist-packages/matplotlib/backends/backend_agg.pyc\u001b[0m in \u001b[0;36mprint_png\u001b[0;34m(self, filename_or_obj, *args, **kwargs)\u001b[0m\n\u001b[1;32m    548\u001b[0m         \u001b[0mrenderer\u001b[0m\u001b[0;34m.\u001b[0m\u001b[0mdpi\u001b[0m \u001b[0;34m=\u001b[0m \u001b[0mself\u001b[0m\u001b[0;34m.\u001b[0m\u001b[0mfigure\u001b[0m\u001b[0;34m.\u001b[0m\u001b[0mdpi\u001b[0m\u001b[0;34m\u001b[0m\u001b[0m\n\u001b[1;32m    549\u001b[0m         \u001b[0;32mif\u001b[0m \u001b[0mis_string_like\u001b[0m\u001b[0;34m(\u001b[0m\u001b[0mfilename_or_obj\u001b[0m\u001b[0;34m)\u001b[0m\u001b[0;34m:\u001b[0m\u001b[0;34m\u001b[0m\u001b[0m\n\u001b[0;32m--> 550\u001b[0;31m             \u001b[0mfilename_or_obj\u001b[0m \u001b[0;34m=\u001b[0m \u001b[0mopen\u001b[0m\u001b[0;34m(\u001b[0m\u001b[0mfilename_or_obj\u001b[0m\u001b[0;34m,\u001b[0m \u001b[0;34m'wb'\u001b[0m\u001b[0;34m)\u001b[0m\u001b[0;34m\u001b[0m\u001b[0m\n\u001b[0m\u001b[1;32m    551\u001b[0m             \u001b[0mclose\u001b[0m \u001b[0;34m=\u001b[0m \u001b[0mTrue\u001b[0m\u001b[0;34m\u001b[0m\u001b[0m\n\u001b[1;32m    552\u001b[0m         \u001b[0;32melse\u001b[0m\u001b[0;34m:\u001b[0m\u001b[0;34m\u001b[0m\u001b[0m\n",
      "\u001b[0;31mIOError\u001b[0m: [Errno 2] No such file or directory: '/Users/controller/Desktop/roc_BCG1FC.png'"
     ]
    },
    {
     "data": {
      "image/png": "[encoded data removed]",
      "text/plain": [
       "<matplotlib.figure.Figure at 0x7fca8f242e90>"
      ]
     },
     "metadata": {},
     "output_type": "display_data"
    }
   ],
   "source": [
    "for i in np.arange(k):\n",
    "    plt.plot(roc[i][0], roc[i][1])\n",
    "    \n",
    "plt.xlabel(\"FPR\")\n",
    "plt.ylabel(\"TPR\")\n",
    "plt.title(\"ROC curve for the BCG region of the scans\")\n",
    "plt.savefig(\"/Users/controller/Desktop/roc_BCG1FC.png\")"
   ]
  },
  {
   "cell_type": "code",
   "execution_count": 9,
   "metadata": {
    "collapsed": false,
    "deletable": true,
    "editable": true
   },
   "outputs": [
    {
     "data": {
      "image/png": "[encoded data removed]",
      "text/plain": [
       "<matplotlib.figure.Figure at 0x1ed654dd8>"
      ]
     },
     "metadata": {},
     "output_type": "display_data"
    }
   ],
   "source": [
    "for i in np.arange(k):\n",
    "    plt.plot(roc[i][0], roc[i][1])\n",
    "    \n",
    "plt.xlabel(\"FPR\")\n",
    "plt.ylabel(\"TPR\")\n",
    "plt.title(\"ROC curve for the BCG region of the scans\")\n",
    "plt.savefig(\"/Users/controller/Desktop/roc_BCG1FC.png\")"
   ]
  },
  {
   "cell_type": "markdown",
   "metadata": {
    "collapsed": true,
    "deletable": true,
    "editable": true
   },
   "source": [
    "## Hyperparameter Optimisation\n",
    "\n",
    "We could potentially optimise:\n",
    "    * Regression layer learning rate\n",
    "    * Filter shape\n",
    "    * Pooling shape and stride\n",
    "    * Weight decay of regulariser (in Conv layer & Fully connected layers)\n",
    "    * Subsamp"
   ]
  },
  {
   "cell_type": "code",
   "execution_count": null,
   "metadata": {
    "collapsed": true,
    "deletable": true,
    "editable": true
   },
   "outputs": [],
   "source": []
  }
 ],
 "metadata": {
  "kernelspec": {
   "display_name": "Python 2",
   "language": "python",
   "name": "python2"
  },
  "language_info": {
   "codemirror_mode": {
    "name": "ipython",
    "version": 2
   },
   "file_extension": ".py",
   "mimetype": "text/x-python",
   "name": "python",
   "nbconvert_exporter": "python",
   "pygments_lexer": "ipython2",
   "version": "2.7.12+"
  }
 },
 "nbformat": 4,
 "nbformat_minor": 1
}
