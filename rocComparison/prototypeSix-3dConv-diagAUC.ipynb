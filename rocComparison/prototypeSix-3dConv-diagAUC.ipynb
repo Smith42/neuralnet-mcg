{
 "cells": [
  {
   "cell_type": "code",
   "execution_count": 1,
   "metadata": {
    "collapsed": false,
    "deletable": true,
    "editable": true,
    "scrolled": true
   },
   "outputs": [
    {
     "name": "stdout",
     "output_type": "stream",
     "text": [
      "hdf5 is not supported on this machine (please install/reinstall h5py for optimal experience)\n"
     ]
    }
   ],
   "source": [
    "import tensorflow as tf\n",
    "#import tensorflow.contrib.learn.python.learn as learn\n",
    "import tflearn \n",
    "import scipy as sp\n",
    "import numpy as np \n",
    "import matplotlib.pyplot as plt\n",
    "import six\n",
    "from sklearn.metrics import roc_curve, roc_auc_score\n",
    "import datetime\n",
    "%matplotlib inline"
   ]
  },
  {
   "cell_type": "code",
   "execution_count": 2,
   "metadata": {
    "collapsed": false,
    "deletable": true,
    "editable": true
   },
   "outputs": [],
   "source": [
    "comData = np.load(\"../inData/comData.npy\")\n",
    "comClass = np.load(\"../inData/comClass.npy\")"
   ]
  },
  {
   "cell_type": "code",
   "execution_count": 3,
   "metadata": {
    "collapsed": false,
    "deletable": true,
    "editable": true
   },
   "outputs": [],
   "source": [
    "def processClassData(classData):\n",
    "    \"\"\"\n",
    "    Process classData.\n",
    "    \n",
    "    Returns a one-hot array of shape [len(classData), 2].\n",
    "    \"\"\"\n",
    "    # Convert label data to one-hot array\n",
    "          \n",
    "    classDataOH = np.zeros((len(classData),2))\n",
    "    classDataOH[np.arange(len(classData)), classData] = 1\n",
    "    \n",
    "    return classDataOH\n",
    "\n",
    "comData = comData[..., np.newaxis]\n",
    "comClassOH = processClassData(comClass)"
   ]
  },
  {
   "cell_type": "code",
   "execution_count": 4,
   "metadata": {
    "collapsed": false,
    "deletable": true,
    "editable": true
   },
   "outputs": [
    {
     "name": "stdout",
     "output_type": "stream",
     "text": [
      "(200, 2000, 19, 17, 1)\n"
     ]
    }
   ],
   "source": [
    "# kfold x-validation...\n",
    "k = 2\n",
    "kfoldData = np.array_split(comData, k)\n",
    "kfoldLabelsOH = np.array_split(comClassOH, k)\n",
    "kfoldLabels = np.array_split(comClass, k)\n",
    "print(kfoldData[0].shape)"
   ]
  },
  {
   "cell_type": "markdown",
   "metadata": {
    "deletable": true,
    "editable": true
   },
   "source": [
    "# Neural Network"
   ]
  },
  {
   "cell_type": "code",
   "execution_count": 7,
   "metadata": {
    "collapsed": false,
    "deletable": true,
    "editable": true,
    "scrolled": false
   },
   "outputs": [
    {
     "name": "stdout",
     "output_type": "stream",
     "text": [
      "Specificity: [[0.80281692743301392], [0.91803276538848877], [0.796875]] \n",
      "Avg: 0.839241564274 \n",
      "Sensitivity: [[0.8571428656578064], [0.83333331346511841], [0.82608693838119507]] \n",
      "Avg: 0.838854372501\n"
     ]
    },
    {
     "data": {
      "image/png": "[encoded data removed]",
      "text/plain": [
       "<matplotlib.figure.Figure at 0x7f20d21d15f8>"
      ]
     },
     "metadata": {},
     "output_type": "display_data"
    }
   ],
   "source": [
    "#orig result with subsamp 40, winWidth 10, 30 Epochs, k=3\n",
    "#print(\"Specificity:\", spec, \"\\nSensitivity:\", sens)\n",
    "#for i in np.arange(0,k,1):\n",
    "#    for j in np.arange(0,8,1):\n",
    "#        plt.plot(5 + j*5, roc[i*8 + j], \"x\")"
   ]
  },
  {
   "cell_type": "code",
   "execution_count": 5,
   "metadata": {
    "collapsed": true,
    "deletable": true,
    "editable": true
   },
   "outputs": [],
   "source": [
    "spec = []\n",
    "sens = []\n",
    "auc = []"
   ]
  },
  {
   "cell_type": "code",
   "execution_count": null,
   "metadata": {
    "collapsed": false,
    "deletable": true,
    "editable": true,
    "scrolled": true
   },
   "outputs": [
    {
     "name": "stdout",
     "output_type": "stream",
     "text": [
      "Training Step: 3192  | total loss: \u001b[1m\u001b[32m0.00419\u001b[0m\u001b[0m | time: 0.189s\n",
      "\u001b[2K\r",
      "| Adam | epoch: 128 | loss: 0.00419 - acc: 1.0000 -- iter: 136/200\n"
     ]
    }
   ],
   "source": [
    "subsamp = 40\n",
    "winWidth = 10 #Must be a factor of data length (2000) and even.\n",
    "steps = (2*(2000/subsamp)/winWidth)-1\n",
    "if (2000/subsamp)%2 != 1:\n",
    "    steps -= 1\n",
    "    \n",
    "for i in np.arange(0,k,1):\n",
    "    auc.append([])\n",
    "    for j in range(steps+1):\n",
    "        sess = tf.InteractiveSession()\n",
    "        tf.reset_default_graph()\n",
    "        tflearn.initializations.normal()\n",
    "\n",
    "        # Input layer:\n",
    "        net = tflearn.layers.core.input_data(shape=[None, winWidth, 19, 17, 1])\n",
    "\n",
    "        # First layer:\n",
    "        net = tflearn.layers.conv.conv_3d(net, 8, [5,5,5],  activation=\"leaky_relu\")\n",
    "        net = tflearn.layers.conv.max_pool_3d(net, 2, strides=2)\n",
    "\n",
    "        # Second layer:\n",
    "        net = tflearn.layers.conv.conv_3d(net, 16, [5,5,5], activation=\"leaky_relu\")\n",
    "        net = tflearn.layers.conv.max_pool_3d(net, 2, strides=2)\n",
    "\n",
    "        # Fully connected layer\n",
    "        net = tflearn.layers.core.fully_connected(net, 1024, regularizer=\"L2\", weight_decay=0.001, activation=\"leaky_relu\")\n",
    "        #net = tflearn.layers.core.fully_connected(net, 1024, regularizer=\"L2\", weight_decay=0.001, activation=\"leaky_relu\")\n",
    "\n",
    "        # Dropout layer:\n",
    "        net = tflearn.layers.core.dropout(net, keep_prob=0.5)\n",
    "\n",
    "        # Output layer:\n",
    "        net = tflearn.layers.core.fully_connected(net, 2, activation=\"softmax\")\n",
    "\n",
    "        net = tflearn.layers.estimator.regression(net, optimizer='adam', learning_rate=0.0001, loss='categorical_crossentropy')\n",
    "\n",
    "        model = tflearn.DNN(net, tensorboard_verbose=0)\n",
    "\n",
    "        dummyData = np.reshape(np.concatenate(kfoldData[:i] + kfoldData[i+1:], axis=0), [-1, 2000, 19, 17, 1])\n",
    "        dummyData = dummyData[:,::subsamp]\n",
    "        dummyData = dummyData[:,0 + j*winWidth/2: winWidth + j*winWidth/2]\n",
    "        print(dummyData[0,:].shape)\n",
    "        dummyLabels = np.reshape(np.concatenate(kfoldLabelsOH[:i] + kfoldLabelsOH[i+1:], axis=0), [-1, 2])\n",
    "        model.fit(dummyData, dummyLabels, batch_size=8, n_epoch=250, show_metric=True)\n",
    "\n",
    "        # Get roc curve data\n",
    "        predicted = np.array(model.predict(np.array(kfoldData[i])[:,::subsamp][:,0 + j*winWidth/2: winWidth + j*winWidth/2]))\n",
    "        auc[i].append(roc_auc_score(kfoldLabels[i], predicted[:,1]))\n",
    "        \n",
    "        illTest = []\n",
    "        healthTest = []\n",
    "        for index, item in enumerate(kfoldLabels[i]):\n",
    "            if item == 1:\n",
    "                illTest.append(kfoldData[i][index])\n",
    "            if item == 0:\n",
    "                healthTest.append(kfoldData[i][index])\n",
    "\n",
    "        healthLabel = np.tile([1,0], (len(healthTest), 1))\n",
    "        illLabel = np.tile([0,1], (len(illTest), 1))\n",
    "        \n",
    "        sens.append(model.evaluate(np.array(healthTest)[:,::subsamp][:,0 + j*winWidth/2: winWidth + j*winWidth/2], healthLabel))\n",
    "        spec.append(model.evaluate(np.array(illTest)[:,::subsamp][:,0 + j*winWidth/2: winWidth + j*winWidth/2], illLabel))\n",
    "\n",
    "        \n",
    "    np.save(\"./outData/diagAUC-3d_conv8-16_sub40_k2_80epoch.npy\", [spec, sens, auc])"
   ]
  },
  {
   "cell_type": "code",
   "execution_count": null,
   "metadata": {
    "collapsed": false,
    "deletable": true,
    "editable": true
   },
   "outputs": [],
   "source": [
    "#model.save(\"./outData/models/3d_conv8-16-50.tflearn\")\n",
    "#model.load(\"./outData/models/3d_conv.tflearn\")"
   ]
  },
  {
   "cell_type": "code",
   "execution_count": 7,
   "metadata": {
    "collapsed": false
   },
   "outputs": [
    {
     "data": {
      "text/plain": [
       "(2, 9)"
      ]
     },
     "execution_count": 7,
     "metadata": {},
     "output_type": "execute_result"
    }
   ],
   "source": [
    "np.shape(auc)"
   ]
  },
  {
   "cell_type": "code",
   "execution_count": 9,
   "metadata": {
    "collapsed": false
   },
   "outputs": [
    {
     "name": "stdout",
     "output_type": "stream",
     "text": [
      "('Specificity:', [[0.63265305757522583], [0.52040815353393555], [0.6530611515045166], [0.58163267374038696], [0.56122446060180664], [0.6938774585723877], [0.75510203838348389], [0.66326528787612915], [0.62244892120361328], [0.71428573131561279], [0.62244892120361328], [0.47959181666374207], [0.46938776969909668], [0.6836734414100647], [0.71428567171096802], [0.80612242221832275], [0.69387751817703247], [0.67346936464309692]], '\\nSensitivity:', [[0.52941179275512695], [0.72549021244049072], [0.66666674613952637], [0.69607853889465332], [0.75490200519561768], [0.79411768913269043], [0.77450990676879883], [0.85294127464294434], [0.85294121503829956], [0.48039218783378601], [0.66666674613952637], [0.78431379795074463], [0.67647063732147217], [0.74509811401367188], [0.80392158031463623], [0.78431379795074463], [0.82352948188781738], [0.79411768913269043]])\n"
     ]
    },
    {
     "data": {
      "image/png": "[encoded data removed]",
      "text/plain": [
       "<matplotlib.figure.Figure at 0x7ff68b4ea750>"
      ]
     },
     "metadata": {},
     "output_type": "display_data"
    }
   ],
   "source": [
    "print(\"Specificity:\", spec, \"\\nSensitivity:\", sens)\n",
    "for i in np.arange(0,k,1):\n",
    "    for j in range(steps+1):\n",
    "        plt.plot(200 + j*200, auc[i][j], \"x\")"
   ]
  },
  {
   "cell_type": "code",
   "execution_count": null,
   "metadata": {
    "collapsed": true
   },
   "outputs": [],
   "source": [
    "subsamp = 20\n",
    "winWidth = 8 #Must be a factor of data length (2000) and even.\n",
    "stepfactor = 2\n",
    "\n",
    "steps = (2*(2000/subsamp)/winWidth)-1\n",
    "if (2000/subsamp)%2 != 1:\n",
    "    steps -= 1\n",
    "steps = (steps*stepfactor)/2\n",
    "    \n",
    "for i in np.arange(0,k,1):\n",
    "    roc.append([])\n",
    "    for j in np.arange(0,steps,1):\n",
    "        sess = tf.InteractiveSession()\n",
    "        tf.reset_default_graph()\n",
    "        tflearn.initializations.normal()\n",
    "\n",
    "        # Input layer:\n",
    "        net = tflearn.layers.core.input_data(shape=[None, winWidth, 19, 17, 1])\n",
    "\n",
    "        # First layer:\n",
    "        net = tflearn.layers.conv.conv_3d(net, 8, [5,5,5],  activation=\"leaky_relu\")\n",
    "        net = tflearn.layers.conv.max_pool_3d(net, 2, strides=2)\n",
    "\n",
    "        # Second layer:\n",
    "        net = tflearn.layers.conv.conv_3d(net, 16, [5,5,5], activation=\"leaky_relu\")\n",
    "        net = tflearn.layers.conv.max_pool_3d(net, 2, strides=2)\n",
    "\n",
    "        # Fully connected layer\n",
    "        net = tflearn.layers.core.fully_connected(net, 1024, regularizer=\"L2\", weight_decay=0.001, activation=\"leaky_relu\")\n",
    "        #net = tflearn.layers.core.fully_connected(net, 1024, regularizer=\"L2\", weight_decay=0.001, activation=\"leaky_relu\")\n",
    "\n",
    "        # Dropout layer:\n",
    "        net = tflearn.layers.core.dropout(net, keep_prob=0.5)\n",
    "\n",
    "        # Output layer:\n",
    "        net = tflearn.layers.core.fully_connected(net, 2, activation=\"softmax\")\n",
    "\n",
    "        net = tflearn.layers.estimator.regression(net, optimizer='adam', learning_rate=0.0001, loss='categorical_crossentropy')\n",
    "\n",
    "        model = tflearn.DNN(net, tensorboard_verbose=0)\n",
    "\n",
    "        dummyData = np.reshape(np.concatenate(kfoldData[:i] + kfoldData[i+1:], axis=0), [-1, 2000, 19, 17, 1])\n",
    "        dummyData = dummyData[:,::subsamp]\n",
    "        dummyData = dummyData[:,0 + j*winWidth/stepfactor: winWidth + j*winWidth/stepfactor]\n",
    "        print(dummyData[0,:].shape)\n",
    "        dummyLabels = np.reshape(np.concatenate(kfoldLabelsOH[:i] + kfoldLabelsOH[i+1:], axis=0), [-1, 2])\n",
    "        model.fit(dummyData, dummyLabels, batch_size=8, n_epoch=60, show_metric=True)\n",
    "\n",
    "        illTest = []\n",
    "        healthTest = []\n",
    "        for index, item in enumerate(kfoldLabels[i]):\n",
    "            if item == 1:\n",
    "                illTest.append(kfoldData[i][index])\n",
    "            if item == 0:\n",
    "                healthTest.append(kfoldData[i][index])\n",
    "\n",
    "        healthLabel = np.tile([1,0], (len(healthTest), 1))\n",
    "        illLabel = np.tile([0,1], (len(illTest), 1))\n",
    "        \n",
    "        sens.append(model.evaluate(np.array(healthTest)[:,::subsamp][:,0 + j*winWidth/stepfactor: winWidth + j*winWidth/stepfactor], healthLabel))\n",
    "        spec.append(model.evaluate(np.array(illTest)[:,::subsamp][:,0 + j*winWidth/stepfactor: winWidth + j*winWidth/stepfactor], illLabel))\n",
    "\n",
    "        # Get roc curve data\n",
    "        predicted = np.array(model.predict(np.array(kfoldData[i])[:,::subsamp][:,0 + j*winWidth/stepfactor: winWidth + j*winWidth/stepfactor]))\n",
    "        auc = roc_auc_score(kfoldLabels[i], predicted[:,1])\n",
    "        roc[i].append(auc)"
   ]
  }
 ],
 "metadata": {
  "kernelspec": {
   "display_name": "Python 2",
   "language": "python",
   "name": "python2"
  },
  "language_info": {
   "codemirror_mode": {
    "name": "ipython",
    "version": 2
   },
   "file_extension": ".py",
   "mimetype": "text/x-python",
   "name": "python",
   "nbconvert_exporter": "python",
   "pygments_lexer": "ipython2",
   "version": "2.7.12+"
  }
 },
 "nbformat": 4,
 "nbformat_minor": 1
}
