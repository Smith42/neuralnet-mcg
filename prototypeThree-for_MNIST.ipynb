{
 "cells": [
  {
   "cell_type": "code",
   "execution_count": 1,
   "metadata": {
    "collapsed": false,
    "scrolled": true
   },
   "outputs": [],
   "source": [
    "import tensorflow as tf\n",
    "#import tensorflow.contrib.learn.python.learn as learn\n",
    "import tflearn \n",
    "import scipy as sp\n",
    "import numpy as np \n",
    "import matplotlib.pyplot as plt\n",
    "import pandas as pd\n",
    "import sklearn\n",
    "import random\n",
    "%matplotlib inline"
   ]
  },
  {
   "cell_type": "markdown",
   "metadata": {},
   "source": [
    "# Import and process data"
   ]
  },
  {
   "cell_type": "code",
   "execution_count": 14,
   "metadata": {
    "collapsed": false
   },
   "outputs": [],
   "source": [
    "def importMNIST(filename):\n",
    "    \"\"\"\n",
    "    Import MNIST data from a csv file.\n",
    "    Separate labels and data.\n",
    "    \"\"\"\n",
    "    MNIST_raw = np.genfromtxt(filename, delimiter=\",\")\n",
    "    MNIST_labels = np.zeros(10000)\n",
    "    MNIST_data = []\n",
    "    \n",
    "    for i in np.arange(0, MNIST_raw.shape[0], 1):\n",
    "        MNIST_labels[i] = MNIST_raw[i,0]\n",
    "        MNIST_data.append(MNIST_raw[i,1:])\n",
    "        \n",
    "    return MNIST_labels, MNIST_data\n",
    "\n",
    "def processLabels(MNIST_labels):\n",
    "    \"\"\"\n",
    "    One-hot encoding for the MNIST labels.\n",
    "    \"\"\"\n",
    "    # Convert label data to one-hot array\n",
    "    MNIST_labelsOH = np.zeros((10000,10))\n",
    "    MNIST_labelsOH[np.arange(10000), MNIST_labels.astype(np.int)] = 1\n",
    "    MNIST_labelsLst = []\n",
    "    for i in np.arange(0, MNIST_labelsOH.shape[0], 1):\n",
    "        MNIST_labelsLst.append(MNIST_labelsOH[i])\n",
    "    \n",
    "    return MNIST_labelsLst"
   ]
  },
  {
   "cell_type": "code",
   "execution_count": 15,
   "metadata": {
    "collapsed": false
   },
   "outputs": [],
   "source": [
    "MNIST_labels, MNIST_data = importMNIST(\"./inData/mnist_test.csv\")\n",
    "MNIST_labelsOH = processLabels(MNIST_labels)\n",
    "MNIST_dataRS = np.reshape(MNIST_data, [10000, 784, 1])"
   ]
  },
  {
   "cell_type": "code",
   "execution_count": 16,
   "metadata": {
    "collapsed": false
   },
   "outputs": [
    {
     "name": "stdout",
     "output_type": "stream",
     "text": [
      "3153 [ 0.  0.  0.  0.  0.  0.  0.  0.  1.  0.] 8.0\n"
     ]
    }
   ],
   "source": [
    "rand0 = random.randint(0,9999)\n",
    "print(rand0, MNIST_labelsOH[rand0], MNIST_labels[rand0])"
   ]
  },
  {
   "cell_type": "code",
   "execution_count": 17,
   "metadata": {
    "collapsed": false
   },
   "outputs": [
    {
     "name": "stdout",
     "output_type": "stream",
     "text": [
      "8.0\n"
     ]
    },
    {
     "data": {
      "text/plain": [
       "<matplotlib.image.AxesImage at 0x7f72edd801d0>"
      ]
     },
     "execution_count": 17,
     "metadata": {},
     "output_type": "execute_result"
    },
    {
     "data": {
      "image/png": "[encoded data removed]",
      "text/plain": [
       "<matplotlib.figure.Figure at 0x7f7313e72da0>"
      ]
     },
     "metadata": {},
     "output_type": "display_data"
    }
   ],
   "source": [
    "MNIST_dataTest = np.reshape(MNIST_data[rand0],[28,28])\n",
    "print(MNIST_labels[rand0])\n",
    "plt.imshow(MNIST_dataTest, cmap='hot', interpolation='nearest')"
   ]
  },
  {
   "cell_type": "markdown",
   "metadata": {},
   "source": [
    "# Neural Network"
   ]
  },
  {
   "cell_type": "code",
   "execution_count": 18,
   "metadata": {
    "collapsed": false
   },
   "outputs": [],
   "source": [
    "sess = tf.InteractiveSession()\n",
    "tf.reset_default_graph()\n",
    "tflearn.initializations.normal()\n",
    "\n",
    "# Input layer:\n",
    "net = tflearn.layers.core.input_data(shape=[None, 784, 1])\n",
    "\n",
    "# First layer:\n",
    "net = tflearn.layers.conv.conv_1d(net, 128, 6, activation=\"relu\")\n",
    "net = tflearn.layers.conv.max_pool_1d(net, 2)\n",
    "\n",
    "# Second layer:\n",
    "net = tflearn.layers.conv.conv_1d(net, 256, 6, activation=\"relu\")\n",
    "net = tflearn.layers.conv.max_pool_1d(net, 2)\n",
    "\n",
    "# Fully connected layer 1:\n",
    "net = tflearn.layers.core.fully_connected(net, 2048, activation=\"relu\")\n",
    "\n",
    "# Fully connected layer 2:\n",
    "net = tflearn.layers.core.fully_connected(net, 256, activation=\"relu\")\n",
    "\n",
    "# Output layer:\n",
    "net = tflearn.layers.core.fully_connected(net, 10, activation=\"softmax\")\n",
    "\n",
    "net = tflearn.layers.estimator.regression(net, optimizer='adam', loss='categorical_crossentropy',\\\n",
    "                         learning_rate=0.001)"
   ]
  },
  {
   "cell_type": "code",
   "execution_count": null,
   "metadata": {
    "collapsed": false,
    "scrolled": true
   },
   "outputs": [
    {
     "name": "stdout",
     "output_type": "stream",
     "text": [
      "Training Step: 163  | total loss: \u001b[1m\u001b[32m20.95260\u001b[0m\u001b[0m\n",
      "\u001b[2K\r",
      "| Adam | epoch: 001 | loss: 20.95260 - acc: 0.0900 -- iter: 00384/10000\n"
     ]
    }
   ],
   "source": [
    "model = tflearn.DNN(net, tensorboard_verbose=3)\n",
    "model.fit(MNIST_dataRS, MNIST_labelsOH, show_metric=True)"
   ]
  }
 ],
 "metadata": {
  "kernelspec": {
   "display_name": "Python 3",
   "language": "python",
   "name": "python3"
  },
  "language_info": {
   "codemirror_mode": {
    "name": "ipython",
    "version": 3
   },
   "file_extension": ".py",
   "mimetype": "text/x-python",
   "name": "python",
   "nbconvert_exporter": "python",
   "pygments_lexer": "ipython3",
   "version": "3.5.3"
  }
 },
 "nbformat": 4,
 "nbformat_minor": 1
}
